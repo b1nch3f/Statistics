{
 "cells": [
  {
   "cell_type": "code",
   "execution_count": 1,
   "metadata": {
    "ExecuteTime": {
     "end_time": "2022-01-16T08:37:21.706961Z",
     "start_time": "2022-01-16T08:37:20.145060Z"
    },
    "id": "LeO_yZqtcJry"
   },
   "outputs": [],
   "source": [
    "import numpy as np\n",
    "import pandas as pd\n",
    "import matplotlib.pyplot as plt\n",
    "import seaborn as sns"
   ]
  },
  {
   "cell_type": "code",
   "execution_count": 2,
   "metadata": {
    "ExecuteTime": {
     "end_time": "2022-01-16T08:37:21.813002Z",
     "start_time": "2022-01-16T08:37:21.708599Z"
    },
    "id": "LLGCztACcZW_"
   },
   "outputs": [],
   "source": [
    "loans = pd.read_csv('../data/loans_full_schema.csv')"
   ]
  },
  {
   "cell_type": "code",
   "execution_count": 3,
   "metadata": {
    "ExecuteTime": {
     "end_time": "2022-01-16T08:37:21.843387Z",
     "start_time": "2022-01-16T08:37:21.813879Z"
    },
    "colab": {
     "base_uri": "https://localhost:8080/"
    },
    "id": "XKBDO4b9cedG",
    "outputId": "f0a9fc34-d333-43ed-ddc3-8e70e11e6f47"
   },
   "outputs": [
    {
     "name": "stdout",
     "output_type": "stream",
     "text": [
      "<class 'pandas.core.frame.DataFrame'>\n",
      "RangeIndex: 10000 entries, 0 to 9999\n",
      "Data columns (total 55 columns):\n",
      " #   Column                            Non-Null Count  Dtype  \n",
      "---  ------                            --------------  -----  \n",
      " 0   emp_title                         9167 non-null   object \n",
      " 1   emp_length                        9183 non-null   float64\n",
      " 2   state                             10000 non-null  object \n",
      " 3   homeownership                     10000 non-null  object \n",
      " 4   annual_income                     10000 non-null  float64\n",
      " 5   verified_income                   10000 non-null  object \n",
      " 6   debt_to_income                    9976 non-null   float64\n",
      " 7   annual_income_joint               1495 non-null   float64\n",
      " 8   verification_income_joint         1455 non-null   object \n",
      " 9   debt_to_income_joint              1495 non-null   float64\n",
      " 10  delinq_2y                         10000 non-null  int64  \n",
      " 11  months_since_last_delinq          4342 non-null   float64\n",
      " 12  earliest_credit_line              10000 non-null  int64  \n",
      " 13  inquiries_last_12m                10000 non-null  int64  \n",
      " 14  total_credit_lines                10000 non-null  int64  \n",
      " 15  open_credit_lines                 10000 non-null  int64  \n",
      " 16  total_credit_limit                10000 non-null  int64  \n",
      " 17  total_credit_utilized             10000 non-null  int64  \n",
      " 18  num_collections_last_12m          10000 non-null  int64  \n",
      " 19  num_historical_failed_to_pay      10000 non-null  int64  \n",
      " 20  months_since_90d_late             2285 non-null   float64\n",
      " 21  current_accounts_delinq           10000 non-null  int64  \n",
      " 22  total_collection_amount_ever      10000 non-null  int64  \n",
      " 23  current_installment_accounts      10000 non-null  int64  \n",
      " 24  accounts_opened_24m               10000 non-null  int64  \n",
      " 25  months_since_last_credit_inquiry  8729 non-null   float64\n",
      " 26  num_satisfactory_accounts         10000 non-null  int64  \n",
      " 27  num_accounts_120d_past_due        9682 non-null   float64\n",
      " 28  num_accounts_30d_past_due         10000 non-null  int64  \n",
      " 29  num_active_debit_accounts         10000 non-null  int64  \n",
      " 30  total_debit_limit                 10000 non-null  int64  \n",
      " 31  num_total_cc_accounts             10000 non-null  int64  \n",
      " 32  num_open_cc_accounts              10000 non-null  int64  \n",
      " 33  num_cc_carrying_balance           10000 non-null  int64  \n",
      " 34  num_mort_accounts                 10000 non-null  int64  \n",
      " 35  account_never_delinq_percent      10000 non-null  float64\n",
      " 36  tax_liens                         10000 non-null  int64  \n",
      " 37  public_record_bankrupt            10000 non-null  int64  \n",
      " 38  loan_purpose                      10000 non-null  object \n",
      " 39  application_type                  10000 non-null  object \n",
      " 40  loan_amount                       10000 non-null  int64  \n",
      " 41  term                              10000 non-null  int64  \n",
      " 42  interest_rate                     10000 non-null  float64\n",
      " 43  installment                       10000 non-null  float64\n",
      " 44  grade                             10000 non-null  object \n",
      " 45  sub_grade                         10000 non-null  object \n",
      " 46  issue_month                       10000 non-null  object \n",
      " 47  loan_status                       10000 non-null  object \n",
      " 48  initial_listing_status            10000 non-null  object \n",
      " 49  disbursement_method               10000 non-null  object \n",
      " 50  balance                           10000 non-null  float64\n",
      " 51  paid_total                        10000 non-null  float64\n",
      " 52  paid_principal                    10000 non-null  float64\n",
      " 53  paid_interest                     10000 non-null  float64\n",
      " 54  paid_late_fees                    10000 non-null  float64\n",
      "dtypes: float64(17), int64(25), object(13)\n",
      "memory usage: 4.2+ MB\n"
     ]
    }
   ],
   "source": [
    "loans.info()"
   ]
  },
  {
   "cell_type": "code",
   "execution_count": 4,
   "metadata": {
    "ExecuteTime": {
     "end_time": "2022-01-16T08:37:21.948667Z",
     "start_time": "2022-01-16T08:37:21.845354Z"
    },
    "colab": {
     "base_uri": "https://localhost:8080/",
     "height": 364
    },
    "id": "gQSpeVj7cfvs",
    "outputId": "aa9ba9a7-6f31-4270-af07-c42d9d9923bd"
   },
   "outputs": [
    {
     "data": {
      "text/html": [
       "<div>\n",
       "<style scoped>\n",
       "    .dataframe tbody tr th:only-of-type {\n",
       "        vertical-align: middle;\n",
       "    }\n",
       "\n",
       "    .dataframe tbody tr th {\n",
       "        vertical-align: top;\n",
       "    }\n",
       "\n",
       "    .dataframe thead th {\n",
       "        text-align: right;\n",
       "    }\n",
       "</style>\n",
       "<table border=\"1\" class=\"dataframe\">\n",
       "  <thead>\n",
       "    <tr style=\"text-align: right;\">\n",
       "      <th></th>\n",
       "      <th>emp_length</th>\n",
       "      <th>annual_income</th>\n",
       "      <th>debt_to_income</th>\n",
       "      <th>annual_income_joint</th>\n",
       "      <th>debt_to_income_joint</th>\n",
       "      <th>delinq_2y</th>\n",
       "      <th>months_since_last_delinq</th>\n",
       "      <th>earliest_credit_line</th>\n",
       "      <th>inquiries_last_12m</th>\n",
       "      <th>total_credit_lines</th>\n",
       "      <th>...</th>\n",
       "      <th>public_record_bankrupt</th>\n",
       "      <th>loan_amount</th>\n",
       "      <th>term</th>\n",
       "      <th>interest_rate</th>\n",
       "      <th>installment</th>\n",
       "      <th>balance</th>\n",
       "      <th>paid_total</th>\n",
       "      <th>paid_principal</th>\n",
       "      <th>paid_interest</th>\n",
       "      <th>paid_late_fees</th>\n",
       "    </tr>\n",
       "  </thead>\n",
       "  <tbody>\n",
       "    <tr>\n",
       "      <th>count</th>\n",
       "      <td>9183.000000</td>\n",
       "      <td>1.000000e+04</td>\n",
       "      <td>9976.000000</td>\n",
       "      <td>1.495000e+03</td>\n",
       "      <td>1495.000000</td>\n",
       "      <td>10000.00000</td>\n",
       "      <td>4342.000000</td>\n",
       "      <td>10000.00000</td>\n",
       "      <td>10000.00000</td>\n",
       "      <td>10000.000000</td>\n",
       "      <td>...</td>\n",
       "      <td>10000.000000</td>\n",
       "      <td>10000.000000</td>\n",
       "      <td>10000.000000</td>\n",
       "      <td>10000.000000</td>\n",
       "      <td>10000.000000</td>\n",
       "      <td>10000.000000</td>\n",
       "      <td>10000.000000</td>\n",
       "      <td>10000.000000</td>\n",
       "      <td>10000.000000</td>\n",
       "      <td>10000.000000</td>\n",
       "    </tr>\n",
       "    <tr>\n",
       "      <th>mean</th>\n",
       "      <td>5.930306</td>\n",
       "      <td>7.922215e+04</td>\n",
       "      <td>19.308192</td>\n",
       "      <td>1.279146e+05</td>\n",
       "      <td>19.979304</td>\n",
       "      <td>0.21600</td>\n",
       "      <td>36.760709</td>\n",
       "      <td>2001.29000</td>\n",
       "      <td>1.95820</td>\n",
       "      <td>22.679600</td>\n",
       "      <td>...</td>\n",
       "      <td>0.123800</td>\n",
       "      <td>16361.922500</td>\n",
       "      <td>43.272000</td>\n",
       "      <td>12.427524</td>\n",
       "      <td>476.205323</td>\n",
       "      <td>14458.916610</td>\n",
       "      <td>2494.234773</td>\n",
       "      <td>1894.448466</td>\n",
       "      <td>599.666781</td>\n",
       "      <td>0.119516</td>\n",
       "    </tr>\n",
       "    <tr>\n",
       "      <th>std</th>\n",
       "      <td>3.703734</td>\n",
       "      <td>6.473429e+04</td>\n",
       "      <td>15.004851</td>\n",
       "      <td>7.016838e+04</td>\n",
       "      <td>8.054781</td>\n",
       "      <td>0.68366</td>\n",
       "      <td>21.634939</td>\n",
       "      <td>7.79551</td>\n",
       "      <td>2.38013</td>\n",
       "      <td>11.885439</td>\n",
       "      <td>...</td>\n",
       "      <td>0.337172</td>\n",
       "      <td>10301.956759</td>\n",
       "      <td>11.029877</td>\n",
       "      <td>5.001105</td>\n",
       "      <td>294.851627</td>\n",
       "      <td>9964.561865</td>\n",
       "      <td>3958.230365</td>\n",
       "      <td>3884.407175</td>\n",
       "      <td>517.328062</td>\n",
       "      <td>1.813468</td>\n",
       "    </tr>\n",
       "    <tr>\n",
       "      <th>min</th>\n",
       "      <td>0.000000</td>\n",
       "      <td>0.000000e+00</td>\n",
       "      <td>0.000000</td>\n",
       "      <td>1.920000e+04</td>\n",
       "      <td>0.320000</td>\n",
       "      <td>0.00000</td>\n",
       "      <td>1.000000</td>\n",
       "      <td>1963.00000</td>\n",
       "      <td>0.00000</td>\n",
       "      <td>2.000000</td>\n",
       "      <td>...</td>\n",
       "      <td>0.000000</td>\n",
       "      <td>1000.000000</td>\n",
       "      <td>36.000000</td>\n",
       "      <td>5.310000</td>\n",
       "      <td>30.750000</td>\n",
       "      <td>0.000000</td>\n",
       "      <td>0.000000</td>\n",
       "      <td>0.000000</td>\n",
       "      <td>0.000000</td>\n",
       "      <td>0.000000</td>\n",
       "    </tr>\n",
       "    <tr>\n",
       "      <th>25%</th>\n",
       "      <td>2.000000</td>\n",
       "      <td>4.500000e+04</td>\n",
       "      <td>11.057500</td>\n",
       "      <td>8.683350e+04</td>\n",
       "      <td>14.160000</td>\n",
       "      <td>0.00000</td>\n",
       "      <td>19.000000</td>\n",
       "      <td>1997.00000</td>\n",
       "      <td>0.00000</td>\n",
       "      <td>14.000000</td>\n",
       "      <td>...</td>\n",
       "      <td>0.000000</td>\n",
       "      <td>8000.000000</td>\n",
       "      <td>36.000000</td>\n",
       "      <td>9.430000</td>\n",
       "      <td>256.040000</td>\n",
       "      <td>6679.065000</td>\n",
       "      <td>928.700000</td>\n",
       "      <td>587.100000</td>\n",
       "      <td>221.757500</td>\n",
       "      <td>0.000000</td>\n",
       "    </tr>\n",
       "    <tr>\n",
       "      <th>50%</th>\n",
       "      <td>6.000000</td>\n",
       "      <td>6.500000e+04</td>\n",
       "      <td>17.570000</td>\n",
       "      <td>1.130000e+05</td>\n",
       "      <td>19.720000</td>\n",
       "      <td>0.00000</td>\n",
       "      <td>34.000000</td>\n",
       "      <td>2003.00000</td>\n",
       "      <td>1.00000</td>\n",
       "      <td>21.000000</td>\n",
       "      <td>...</td>\n",
       "      <td>0.000000</td>\n",
       "      <td>14500.000000</td>\n",
       "      <td>36.000000</td>\n",
       "      <td>11.980000</td>\n",
       "      <td>398.420000</td>\n",
       "      <td>12379.495000</td>\n",
       "      <td>1563.300000</td>\n",
       "      <td>984.990000</td>\n",
       "      <td>446.140000</td>\n",
       "      <td>0.000000</td>\n",
       "    </tr>\n",
       "    <tr>\n",
       "      <th>75%</th>\n",
       "      <td>10.000000</td>\n",
       "      <td>9.500000e+04</td>\n",
       "      <td>25.002500</td>\n",
       "      <td>1.515455e+05</td>\n",
       "      <td>25.500000</td>\n",
       "      <td>0.00000</td>\n",
       "      <td>53.000000</td>\n",
       "      <td>2006.00000</td>\n",
       "      <td>3.00000</td>\n",
       "      <td>29.000000</td>\n",
       "      <td>...</td>\n",
       "      <td>0.000000</td>\n",
       "      <td>24000.000000</td>\n",
       "      <td>60.000000</td>\n",
       "      <td>15.050000</td>\n",
       "      <td>644.690000</td>\n",
       "      <td>20690.182500</td>\n",
       "      <td>2616.005000</td>\n",
       "      <td>1694.555000</td>\n",
       "      <td>825.420000</td>\n",
       "      <td>0.000000</td>\n",
       "    </tr>\n",
       "    <tr>\n",
       "      <th>max</th>\n",
       "      <td>10.000000</td>\n",
       "      <td>2.300000e+06</td>\n",
       "      <td>469.090000</td>\n",
       "      <td>1.100000e+06</td>\n",
       "      <td>39.980000</td>\n",
       "      <td>13.00000</td>\n",
       "      <td>118.000000</td>\n",
       "      <td>2015.00000</td>\n",
       "      <td>29.00000</td>\n",
       "      <td>87.000000</td>\n",
       "      <td>...</td>\n",
       "      <td>3.000000</td>\n",
       "      <td>40000.000000</td>\n",
       "      <td>60.000000</td>\n",
       "      <td>30.940000</td>\n",
       "      <td>1566.590000</td>\n",
       "      <td>40000.000000</td>\n",
       "      <td>41630.443684</td>\n",
       "      <td>40000.000000</td>\n",
       "      <td>4216.440000</td>\n",
       "      <td>52.980000</td>\n",
       "    </tr>\n",
       "  </tbody>\n",
       "</table>\n",
       "<p>8 rows × 42 columns</p>\n",
       "</div>"
      ],
      "text/plain": [
       "        emp_length  annual_income  debt_to_income  annual_income_joint  \\\n",
       "count  9183.000000   1.000000e+04     9976.000000         1.495000e+03   \n",
       "mean      5.930306   7.922215e+04       19.308192         1.279146e+05   \n",
       "std       3.703734   6.473429e+04       15.004851         7.016838e+04   \n",
       "min       0.000000   0.000000e+00        0.000000         1.920000e+04   \n",
       "25%       2.000000   4.500000e+04       11.057500         8.683350e+04   \n",
       "50%       6.000000   6.500000e+04       17.570000         1.130000e+05   \n",
       "75%      10.000000   9.500000e+04       25.002500         1.515455e+05   \n",
       "max      10.000000   2.300000e+06      469.090000         1.100000e+06   \n",
       "\n",
       "       debt_to_income_joint    delinq_2y  months_since_last_delinq  \\\n",
       "count           1495.000000  10000.00000               4342.000000   \n",
       "mean              19.979304      0.21600                 36.760709   \n",
       "std                8.054781      0.68366                 21.634939   \n",
       "min                0.320000      0.00000                  1.000000   \n",
       "25%               14.160000      0.00000                 19.000000   \n",
       "50%               19.720000      0.00000                 34.000000   \n",
       "75%               25.500000      0.00000                 53.000000   \n",
       "max               39.980000     13.00000                118.000000   \n",
       "\n",
       "       earliest_credit_line  inquiries_last_12m  total_credit_lines  ...  \\\n",
       "count           10000.00000         10000.00000        10000.000000  ...   \n",
       "mean             2001.29000             1.95820           22.679600  ...   \n",
       "std                 7.79551             2.38013           11.885439  ...   \n",
       "min              1963.00000             0.00000            2.000000  ...   \n",
       "25%              1997.00000             0.00000           14.000000  ...   \n",
       "50%              2003.00000             1.00000           21.000000  ...   \n",
       "75%              2006.00000             3.00000           29.000000  ...   \n",
       "max              2015.00000            29.00000           87.000000  ...   \n",
       "\n",
       "       public_record_bankrupt   loan_amount          term  interest_rate  \\\n",
       "count            10000.000000  10000.000000  10000.000000   10000.000000   \n",
       "mean                 0.123800  16361.922500     43.272000      12.427524   \n",
       "std                  0.337172  10301.956759     11.029877       5.001105   \n",
       "min                  0.000000   1000.000000     36.000000       5.310000   \n",
       "25%                  0.000000   8000.000000     36.000000       9.430000   \n",
       "50%                  0.000000  14500.000000     36.000000      11.980000   \n",
       "75%                  0.000000  24000.000000     60.000000      15.050000   \n",
       "max                  3.000000  40000.000000     60.000000      30.940000   \n",
       "\n",
       "        installment       balance    paid_total  paid_principal  \\\n",
       "count  10000.000000  10000.000000  10000.000000    10000.000000   \n",
       "mean     476.205323  14458.916610   2494.234773     1894.448466   \n",
       "std      294.851627   9964.561865   3958.230365     3884.407175   \n",
       "min       30.750000      0.000000      0.000000        0.000000   \n",
       "25%      256.040000   6679.065000    928.700000      587.100000   \n",
       "50%      398.420000  12379.495000   1563.300000      984.990000   \n",
       "75%      644.690000  20690.182500   2616.005000     1694.555000   \n",
       "max     1566.590000  40000.000000  41630.443684    40000.000000   \n",
       "\n",
       "       paid_interest  paid_late_fees  \n",
       "count   10000.000000    10000.000000  \n",
       "mean      599.666781        0.119516  \n",
       "std       517.328062        1.813468  \n",
       "min         0.000000        0.000000  \n",
       "25%       221.757500        0.000000  \n",
       "50%       446.140000        0.000000  \n",
       "75%       825.420000        0.000000  \n",
       "max      4216.440000       52.980000  \n",
       "\n",
       "[8 rows x 42 columns]"
      ]
     },
     "execution_count": 4,
     "metadata": {},
     "output_type": "execute_result"
    }
   ],
   "source": [
    "loans.describe()"
   ]
  },
  {
   "cell_type": "code",
   "execution_count": 5,
   "metadata": {
    "ExecuteTime": {
     "end_time": "2022-01-16T08:37:21.964036Z",
     "start_time": "2022-01-16T08:37:21.949630Z"
    },
    "colab": {
     "base_uri": "https://localhost:8080/"
    },
    "id": "HqSeLRSvciO1",
    "outputId": "7fe7a229-e7f6-4c55-924a-ac787cf8e56b"
   },
   "outputs": [
    {
     "data": {
      "text/plain": [
       "emp_title                            object\n",
       "emp_length                          float64\n",
       "state                                object\n",
       "homeownership                        object\n",
       "annual_income                       float64\n",
       "verified_income                      object\n",
       "debt_to_income                      float64\n",
       "annual_income_joint                 float64\n",
       "verification_income_joint            object\n",
       "debt_to_income_joint                float64\n",
       "delinq_2y                             int64\n",
       "months_since_last_delinq            float64\n",
       "earliest_credit_line                  int64\n",
       "inquiries_last_12m                    int64\n",
       "total_credit_lines                    int64\n",
       "open_credit_lines                     int64\n",
       "total_credit_limit                    int64\n",
       "total_credit_utilized                 int64\n",
       "num_collections_last_12m              int64\n",
       "num_historical_failed_to_pay          int64\n",
       "months_since_90d_late               float64\n",
       "current_accounts_delinq               int64\n",
       "total_collection_amount_ever          int64\n",
       "current_installment_accounts          int64\n",
       "accounts_opened_24m                   int64\n",
       "months_since_last_credit_inquiry    float64\n",
       "num_satisfactory_accounts             int64\n",
       "num_accounts_120d_past_due          float64\n",
       "num_accounts_30d_past_due             int64\n",
       "num_active_debit_accounts             int64\n",
       "total_debit_limit                     int64\n",
       "num_total_cc_accounts                 int64\n",
       "num_open_cc_accounts                  int64\n",
       "num_cc_carrying_balance               int64\n",
       "num_mort_accounts                     int64\n",
       "account_never_delinq_percent        float64\n",
       "tax_liens                             int64\n",
       "public_record_bankrupt                int64\n",
       "loan_purpose                         object\n",
       "application_type                     object\n",
       "loan_amount                           int64\n",
       "term                                  int64\n",
       "interest_rate                       float64\n",
       "installment                         float64\n",
       "grade                                object\n",
       "sub_grade                            object\n",
       "issue_month                          object\n",
       "loan_status                          object\n",
       "initial_listing_status               object\n",
       "disbursement_method                  object\n",
       "balance                             float64\n",
       "paid_total                          float64\n",
       "paid_principal                      float64\n",
       "paid_interest                       float64\n",
       "paid_late_fees                      float64\n",
       "dtype: object"
      ]
     },
     "execution_count": 5,
     "metadata": {},
     "output_type": "execute_result"
    }
   ],
   "source": [
    "loans.dtypes"
   ]
  },
  {
   "cell_type": "code",
   "execution_count": 6,
   "metadata": {
    "ExecuteTime": {
     "end_time": "2022-01-16T08:37:22.009055Z",
     "start_time": "2022-01-16T08:37:21.965999Z"
    },
    "colab": {
     "base_uri": "https://localhost:8080/",
     "height": 175
    },
    "id": "V57f8te5c0O3",
    "outputId": "9811b9be-0aa5-4037-b2e4-f8e6406be93a"
   },
   "outputs": [
    {
     "data": {
      "text/html": [
       "<div>\n",
       "<style scoped>\n",
       "    .dataframe tbody tr th:only-of-type {\n",
       "        vertical-align: middle;\n",
       "    }\n",
       "\n",
       "    .dataframe tbody tr th {\n",
       "        vertical-align: top;\n",
       "    }\n",
       "\n",
       "    .dataframe thead th {\n",
       "        text-align: right;\n",
       "    }\n",
       "</style>\n",
       "<table border=\"1\" class=\"dataframe\">\n",
       "  <thead>\n",
       "    <tr style=\"text-align: right;\">\n",
       "      <th>homeownership</th>\n",
       "      <th>MORTGAGE</th>\n",
       "      <th>OWN</th>\n",
       "      <th>RENT</th>\n",
       "      <th>All</th>\n",
       "    </tr>\n",
       "    <tr>\n",
       "      <th>application_type</th>\n",
       "      <th></th>\n",
       "      <th></th>\n",
       "      <th></th>\n",
       "      <th></th>\n",
       "    </tr>\n",
       "  </thead>\n",
       "  <tbody>\n",
       "    <tr>\n",
       "      <th>individual</th>\n",
       "      <td>3839</td>\n",
       "      <td>1170</td>\n",
       "      <td>3496</td>\n",
       "      <td>8505</td>\n",
       "    </tr>\n",
       "    <tr>\n",
       "      <th>joint</th>\n",
       "      <td>950</td>\n",
       "      <td>183</td>\n",
       "      <td>362</td>\n",
       "      <td>1495</td>\n",
       "    </tr>\n",
       "    <tr>\n",
       "      <th>All</th>\n",
       "      <td>4789</td>\n",
       "      <td>1353</td>\n",
       "      <td>3858</td>\n",
       "      <td>10000</td>\n",
       "    </tr>\n",
       "  </tbody>\n",
       "</table>\n",
       "</div>"
      ],
      "text/plain": [
       "homeownership     MORTGAGE   OWN  RENT    All\n",
       "application_type                             \n",
       "individual            3839  1170  3496   8505\n",
       "joint                  950   183   362   1495\n",
       "All                   4789  1353  3858  10000"
      ]
     },
     "execution_count": 6,
     "metadata": {},
     "output_type": "execute_result"
    }
   ],
   "source": [
    "pd.crosstab(loans['application_type'], loans['homeownership'], margins=True)"
   ]
  },
  {
   "cell_type": "code",
   "execution_count": 7,
   "metadata": {
    "ExecuteTime": {
     "end_time": "2022-01-16T08:37:22.054594Z",
     "start_time": "2022-01-16T08:37:22.010025Z"
    },
    "colab": {
     "base_uri": "https://localhost:8080/",
     "height": 206
    },
    "id": "SawTxTjIjjb9",
    "outputId": "314a0cf7-aa62-40af-c949-dd1a1cbf28b9"
   },
   "outputs": [
    {
     "data": {
      "text/html": [
       "<div>\n",
       "<style scoped>\n",
       "    .dataframe tbody tr th:only-of-type {\n",
       "        vertical-align: middle;\n",
       "    }\n",
       "\n",
       "    .dataframe tbody tr th {\n",
       "        vertical-align: top;\n",
       "    }\n",
       "\n",
       "    .dataframe thead th {\n",
       "        text-align: right;\n",
       "    }\n",
       "</style>\n",
       "<table border=\"1\" class=\"dataframe\">\n",
       "  <thead>\n",
       "    <tr style=\"text-align: right;\">\n",
       "      <th>col_0</th>\n",
       "      <th>count</th>\n",
       "      <th>All</th>\n",
       "    </tr>\n",
       "    <tr>\n",
       "      <th>homeownership</th>\n",
       "      <th></th>\n",
       "      <th></th>\n",
       "    </tr>\n",
       "  </thead>\n",
       "  <tbody>\n",
       "    <tr>\n",
       "      <th>MORTGAGE</th>\n",
       "      <td>4789</td>\n",
       "      <td>4789</td>\n",
       "    </tr>\n",
       "    <tr>\n",
       "      <th>OWN</th>\n",
       "      <td>1353</td>\n",
       "      <td>1353</td>\n",
       "    </tr>\n",
       "    <tr>\n",
       "      <th>RENT</th>\n",
       "      <td>3858</td>\n",
       "      <td>3858</td>\n",
       "    </tr>\n",
       "    <tr>\n",
       "      <th>All</th>\n",
       "      <td>10000</td>\n",
       "      <td>10000</td>\n",
       "    </tr>\n",
       "  </tbody>\n",
       "</table>\n",
       "</div>"
      ],
      "text/plain": [
       "col_0          count    All\n",
       "homeownership              \n",
       "MORTGAGE        4789   4789\n",
       "OWN             1353   1353\n",
       "RENT            3858   3858\n",
       "All            10000  10000"
      ]
     },
     "execution_count": 7,
     "metadata": {},
     "output_type": "execute_result"
    }
   ],
   "source": [
    "pd.crosstab(index=loans['homeownership'], columns='count', margins=True)"
   ]
  },
  {
   "cell_type": "code",
   "execution_count": 8,
   "metadata": {
    "ExecuteTime": {
     "end_time": "2022-01-16T08:37:22.206958Z",
     "start_time": "2022-01-16T08:37:22.056551Z"
    },
    "colab": {
     "base_uri": "https://localhost:8080/",
     "height": 515
    },
    "id": "itCifo31Oh7Z",
    "outputId": "e031f621-340f-4dcb-e72f-44c891c61943"
   },
   "outputs": [
    {
     "data": {
      "text/plain": [
       "<Axes: xlabel='homeownership'>"
      ]
     },
     "execution_count": 8,
     "metadata": {},
     "output_type": "execute_result"
    },
    {
     "data": {
      "image/png": "[encoded data removed]",
      "text/plain": [
       "<Figure size 640x480 with 1 Axes>"
      ]
     },
     "metadata": {},
     "output_type": "display_data"
    }
   ],
   "source": [
    "pd.crosstab(index=loans['homeownership'], columns='count').plot.bar(rot=0)"
   ]
  },
  {
   "cell_type": "code",
   "execution_count": 9,
   "metadata": {
    "ExecuteTime": {
     "end_time": "2022-01-16T08:37:22.357626Z",
     "start_time": "2022-01-16T08:37:22.208562Z"
    },
    "colab": {
     "base_uri": "https://localhost:8080/",
     "height": 404
    },
    "id": "idu3lSncfzxF",
    "outputId": "53fa7294-ca10-4f27-ccca-a1859bc9b7a7"
   },
   "outputs": [
    {
     "data": {
      "text/plain": [
       "<seaborn.axisgrid.FacetGrid at 0x7fcaf4220190>"
      ]
     },
     "execution_count": 9,
     "metadata": {},
     "output_type": "execute_result"
    },
    {
     "data": {
      "text/plain": [
       "<Figure size 1200x800 with 0 Axes>"
      ]
     },
     "metadata": {},
     "output_type": "display_data"
    },
    {
     "data": {
      "image/png": "[encoded data removed]",
      "text/plain": [
       "<Figure size 500x500 with 1 Axes>"
      ]
     },
     "metadata": {},
     "output_type": "display_data"
    }
   ],
   "source": [
    "plt.figure(figsize = (12,8))\n",
    "sns.catplot(x=\"homeownership\", kind=\"count\", palette=\"ch:.25\", data=loans)"
   ]
  },
  {
   "cell_type": "code",
   "execution_count": 10,
   "metadata": {
    "ExecuteTime": {
     "end_time": "2022-01-16T08:37:22.403271Z",
     "start_time": "2022-01-16T08:37:22.360587Z"
    },
    "colab": {
     "base_uri": "https://localhost:8080/",
     "height": 175
    },
    "id": "uCWK2KcWg36z",
    "outputId": "61673b20-ebdf-4cd9-ad7a-c38250fdff20"
   },
   "outputs": [
    {
     "data": {
      "text/html": [
       "<div>\n",
       "<style scoped>\n",
       "    .dataframe tbody tr th:only-of-type {\n",
       "        vertical-align: middle;\n",
       "    }\n",
       "\n",
       "    .dataframe tbody tr th {\n",
       "        vertical-align: top;\n",
       "    }\n",
       "\n",
       "    .dataframe thead th {\n",
       "        text-align: right;\n",
       "    }\n",
       "</style>\n",
       "<table border=\"1\" class=\"dataframe\">\n",
       "  <thead>\n",
       "    <tr style=\"text-align: right;\">\n",
       "      <th>homeownership</th>\n",
       "      <th>MORTGAGE</th>\n",
       "      <th>OWN</th>\n",
       "      <th>RENT</th>\n",
       "    </tr>\n",
       "    <tr>\n",
       "      <th>application_type</th>\n",
       "      <th></th>\n",
       "      <th></th>\n",
       "      <th></th>\n",
       "    </tr>\n",
       "  </thead>\n",
       "  <tbody>\n",
       "    <tr>\n",
       "      <th>individual</th>\n",
       "      <td>0.451382</td>\n",
       "      <td>0.137566</td>\n",
       "      <td>0.411052</td>\n",
       "    </tr>\n",
       "    <tr>\n",
       "      <th>joint</th>\n",
       "      <td>0.635452</td>\n",
       "      <td>0.122408</td>\n",
       "      <td>0.242140</td>\n",
       "    </tr>\n",
       "    <tr>\n",
       "      <th>All</th>\n",
       "      <td>0.478900</td>\n",
       "      <td>0.135300</td>\n",
       "      <td>0.385800</td>\n",
       "    </tr>\n",
       "  </tbody>\n",
       "</table>\n",
       "</div>"
      ],
      "text/plain": [
       "homeownership     MORTGAGE       OWN      RENT\n",
       "application_type                              \n",
       "individual        0.451382  0.137566  0.411052\n",
       "joint             0.635452  0.122408  0.242140\n",
       "All               0.478900  0.135300  0.385800"
      ]
     },
     "execution_count": 10,
     "metadata": {},
     "output_type": "execute_result"
    }
   ],
   "source": [
    "pd.crosstab(loans['application_type'], loans['homeownership'], margins=True, normalize='index')"
   ]
  },
  {
   "cell_type": "code",
   "execution_count": 11,
   "metadata": {
    "ExecuteTime": {
     "end_time": "2022-01-16T08:37:22.448278Z",
     "start_time": "2022-01-16T08:37:22.404272Z"
    },
    "colab": {
     "base_uri": "https://localhost:8080/",
     "height": 143
    },
    "id": "vBCMxHi1uW6t",
    "outputId": "c9fb7378-8543-4d05-e509-0d682ee38367"
   },
   "outputs": [
    {
     "data": {
      "text/html": [
       "<div>\n",
       "<style scoped>\n",
       "    .dataframe tbody tr th:only-of-type {\n",
       "        vertical-align: middle;\n",
       "    }\n",
       "\n",
       "    .dataframe tbody tr th {\n",
       "        vertical-align: top;\n",
       "    }\n",
       "\n",
       "    .dataframe thead th {\n",
       "        text-align: right;\n",
       "    }\n",
       "</style>\n",
       "<table border=\"1\" class=\"dataframe\">\n",
       "  <thead>\n",
       "    <tr style=\"text-align: right;\">\n",
       "      <th>homeownership</th>\n",
       "      <th>MORTGAGE</th>\n",
       "      <th>OWN</th>\n",
       "      <th>RENT</th>\n",
       "      <th>All</th>\n",
       "    </tr>\n",
       "    <tr>\n",
       "      <th>application_type</th>\n",
       "      <th></th>\n",
       "      <th></th>\n",
       "      <th></th>\n",
       "      <th></th>\n",
       "    </tr>\n",
       "  </thead>\n",
       "  <tbody>\n",
       "    <tr>\n",
       "      <th>individual</th>\n",
       "      <td>0.801629</td>\n",
       "      <td>0.864745</td>\n",
       "      <td>0.906169</td>\n",
       "      <td>0.8505</td>\n",
       "    </tr>\n",
       "    <tr>\n",
       "      <th>joint</th>\n",
       "      <td>0.198371</td>\n",
       "      <td>0.135255</td>\n",
       "      <td>0.093831</td>\n",
       "      <td>0.1495</td>\n",
       "    </tr>\n",
       "  </tbody>\n",
       "</table>\n",
       "</div>"
      ],
      "text/plain": [
       "homeownership     MORTGAGE       OWN      RENT     All\n",
       "application_type                                      \n",
       "individual        0.801629  0.864745  0.906169  0.8505\n",
       "joint             0.198371  0.135255  0.093831  0.1495"
      ]
     },
     "execution_count": 11,
     "metadata": {},
     "output_type": "execute_result"
    }
   ],
   "source": [
    "pd.crosstab(loans['application_type'], loans['homeownership'], margins=True, normalize='columns')"
   ]
  },
  {
   "cell_type": "code",
   "execution_count": 12,
   "metadata": {
    "ExecuteTime": {
     "end_time": "2022-01-16T08:37:22.583271Z",
     "start_time": "2022-01-16T08:37:22.449829Z"
    },
    "colab": {
     "base_uri": "https://localhost:8080/",
     "height": 532
    },
    "id": "H6Ga7KyOLyy1",
    "outputId": "bc5f3eca-03f8-4a45-ef69-ddfd85833414"
   },
   "outputs": [
    {
     "data": {
      "text/plain": [
       "<Axes: xlabel='homeownership'>"
      ]
     },
     "execution_count": 12,
     "metadata": {},
     "output_type": "execute_result"
    },
    {
     "data": {
      "text/plain": [
       "<Figure size 1200x800 with 0 Axes>"
      ]
     },
     "metadata": {},
     "output_type": "display_data"
    },
    {
     "data": {
      "image/png": "[encoded data removed]",
      "text/plain": [
       "<Figure size 1200x800 with 1 Axes>"
      ]
     },
     "metadata": {},
     "output_type": "display_data"
    }
   ],
   "source": [
    "plt.figure(figsize = (12,8))\n",
    "pd.crosstab(loans['homeownership'], loans['application_type'], ).plot.bar(figsize=(12, 8), rot=0)"
   ]
  },
  {
   "cell_type": "code",
   "execution_count": 13,
   "metadata": {
    "ExecuteTime": {
     "end_time": "2022-01-16T08:37:22.718984Z",
     "start_time": "2022-01-16T08:37:22.584272Z"
    },
    "colab": {
     "base_uri": "https://localhost:8080/",
     "height": 533
    },
    "id": "Mg65NcxZMEE8",
    "outputId": "b57b8464-b872-4c37-be1f-0fbff2db8423"
   },
   "outputs": [
    {
     "data": {
      "text/plain": [
       "<Axes: xlabel='homeownership'>"
      ]
     },
     "execution_count": 13,
     "metadata": {},
     "output_type": "execute_result"
    },
    {
     "data": {
      "text/plain": [
       "<Figure size 1200x800 with 0 Axes>"
      ]
     },
     "metadata": {},
     "output_type": "display_data"
    },
    {
     "data": {
      "image/png": "[encoded data removed]",
      "text/plain": [
       "<Figure size 1200x800 with 1 Axes>"
      ]
     },
     "metadata": {},
     "output_type": "display_data"
    }
   ],
   "source": [
    "plt.figure(figsize = (12,8))\n",
    "pd.crosstab(loans['homeownership'], loans['application_type'], ).plot.bar(figsize=(12, 8), stacked=True, rot=0)"
   ]
  },
  {
   "cell_type": "code",
   "execution_count": 14,
   "metadata": {
    "ExecuteTime": {
     "end_time": "2022-01-16T08:37:22.840849Z",
     "start_time": "2022-01-16T08:37:22.720980Z"
    },
    "colab": {
     "base_uri": "https://localhost:8080/",
     "height": 514
    },
    "id": "B_IQz9G0PI8h",
    "outputId": "025a9b82-23b0-44ee-e1fb-5260a79a90d3"
   },
   "outputs": [
    {
     "data": {
      "text/plain": [
       "<Axes: xlabel='homeownership'>"
      ]
     },
     "execution_count": 14,
     "metadata": {},
     "output_type": "execute_result"
    },
    {
     "data": {
      "image/png": "[encoded data removed]",
      "text/plain": [
       "<Figure size 1200x800 with 1 Axes>"
      ]
     },
     "metadata": {},
     "output_type": "display_data"
    }
   ],
   "source": [
    "pd.crosstab(loans['homeownership'], loans['application_type'], normalize='index').plot.bar(figsize=(12, 8), stacked=True, rot=0)"
   ]
  },
  {
   "cell_type": "code",
   "execution_count": 15,
   "metadata": {
    "ExecuteTime": {
     "end_time": "2022-01-16T08:37:22.855898Z",
     "start_time": "2022-01-16T08:37:22.841847Z"
    },
    "id": "iMMrrv1uPXz3"
   },
   "outputs": [],
   "source": [
    "import matplotlib.pyplot as plt\n",
    "from statsmodels.graphics.mosaicplot import mosaic"
   ]
  },
  {
   "cell_type": "code",
   "execution_count": 16,
   "metadata": {
    "ExecuteTime": {
     "end_time": "2022-01-16T08:37:23.007728Z",
     "start_time": "2022-01-16T08:37:22.856845Z"
    },
    "colab": {
     "base_uri": "https://localhost:8080/",
     "height": 486
    },
    "id": "85zl-kjjCFme",
    "outputId": "86606049-dba0-4b6c-9749-b43c0d9f1eab"
   },
   "outputs": [
    {
     "data": {
      "image/png": "[encoded data removed]",
      "text/plain": [
       "<Figure size 1200x800 with 3 Axes>"
      ]
     },
     "metadata": {},
     "output_type": "display_data"
    }
   ],
   "source": [
    "def c_func(key):\n",
    "  if 'MORTGAGE' in key:\n",
    "    return {'color': 'orange'}\n",
    "  elif 'RENT' in key:\n",
    "    return {'color': 'lightblue'}\n",
    "  elif 'OWN' in key:\n",
    "    return {'color': 'lightgreen'}\n",
    "\n",
    "plt.rcParams[\"figure.figsize\"] = [12, 8]\n",
    "\n",
    "mosaic(loans, ['homeownership', 'application_type'], properties=c_func, gap=.01,);"
   ]
  },
  {
   "cell_type": "code",
   "execution_count": 17,
   "metadata": {
    "ExecuteTime": {
     "end_time": "2022-01-16T08:37:23.144565Z",
     "start_time": "2022-01-16T08:37:23.009782Z"
    },
    "colab": {
     "base_uri": "https://localhost:8080/",
     "height": 486
    },
    "id": "WCLcnzHZCeqs",
    "outputId": "9952353f-8eda-4489-bcaa-f32033dbf4c9"
   },
   "outputs": [
    {
     "data": {
      "image/png": "[encoded data removed]",
      "text/plain": [
       "<Figure size 1200x800 with 3 Axes>"
      ]
     },
     "metadata": {},
     "output_type": "display_data"
    }
   ],
   "source": [
    "def c_func(key):\n",
    "  if 'MORTGAGE' in key:\n",
    "    return {'color': 'orange'}\n",
    "  elif 'RENT' in key:\n",
    "    return {'color': 'lightblue'}\n",
    "  elif 'OWN' in key:\n",
    "    return {'color': 'lightgreen'}\n",
    "\n",
    "plt.rcParams[\"figure.figsize\"] = [12, 8]\n",
    "\n",
    "mosaic(loans, ['application_type', 'homeownership'], properties=c_func, gap=.01,);"
   ]
  },
  {
   "cell_type": "code",
   "execution_count": 18,
   "metadata": {
    "ExecuteTime": {
     "end_time": "2022-01-16T08:37:23.160141Z",
     "start_time": "2022-01-16T08:37:23.145532Z"
    },
    "colab": {
     "base_uri": "https://localhost:8080/"
    },
    "id": "f9Xc23jEIB33",
    "outputId": "13f8a0a7-08ec-4a50-923a-5f781fbb05ce"
   },
   "outputs": [
    {
     "data": {
      "text/plain": [
       "homeownership\n",
       "MORTGAGE    4789\n",
       "OWN         1353\n",
       "RENT        3858\n",
       "Name: homeownership, dtype: int64"
      ]
     },
     "execution_count": 18,
     "metadata": {},
     "output_type": "execute_result"
    }
   ],
   "source": [
    "loans.groupby('homeownership')['homeownership'].count()"
   ]
  },
  {
   "cell_type": "code",
   "execution_count": 19,
   "metadata": {
    "ExecuteTime": {
     "end_time": "2022-01-16T08:37:23.175828Z",
     "start_time": "2022-01-16T08:37:23.162149Z"
    },
    "colab": {
     "base_uri": "https://localhost:8080/"
    },
    "id": "V4Ro6cDEPVZ-",
    "outputId": "b8aa3f54-7ce5-41a4-d2e7-ca4f70bf5212"
   },
   "outputs": [
    {
     "data": {
      "text/plain": [
       "Index(['MORTGAGE', 'OWN', 'RENT'], dtype='object', name='homeownership')"
      ]
     },
     "execution_count": 19,
     "metadata": {},
     "output_type": "execute_result"
    }
   ],
   "source": [
    "loans.groupby('homeownership')['homeownership'].count().index"
   ]
  },
  {
   "cell_type": "code",
   "execution_count": 20,
   "metadata": {
    "ExecuteTime": {
     "end_time": "2022-01-16T08:37:23.281402Z",
     "start_time": "2022-01-16T08:37:23.177830Z"
    },
    "colab": {
     "base_uri": "https://localhost:8080/",
     "height": 570
    },
    "id": "uc9gGJinNjGH",
    "outputId": "638de2a0-344d-4bbf-f94e-fe02cff51735"
   },
   "outputs": [
    {
     "data": {
      "text/plain": [
       "([<matplotlib.patches.Wedge at 0x7fcaeb2c0590>,\n",
       "  <matplotlib.patches.Wedge at 0x7fcaebaf1d50>,\n",
       "  <matplotlib.patches.Wedge at 0x7fcaebaf2c10>],\n",
       " [Text(0.07286302738922877, 1.0975841558803938, 'MORTGAGE'),\n",
       "  Text(-1.053284256083236, -0.31716285388926646, 'OWN'),\n",
       "  Text(0.3862348634769816, -1.0299624411768216, 'RENT')])"
      ]
     },
     "execution_count": 20,
     "metadata": {},
     "output_type": "execute_result"
    },
    {
     "data": {
      "image/png": "[encoded data removed]",
      "text/plain": [
       "<Figure size 1200x800 with 1 Axes>"
      ]
     },
     "metadata": {},
     "output_type": "display_data"
    }
   ],
   "source": [
    "plt.figure(figsize = (12,8))\n",
    "plt.pie(loans.groupby('homeownership')['homeownership'].count(), labels=loans.groupby('homeownership')['homeownership'].count().index)"
   ]
  },
  {
   "cell_type": "code",
   "execution_count": 21,
   "metadata": {
    "ExecuteTime": {
     "end_time": "2022-01-16T08:37:23.296367Z",
     "start_time": "2022-01-16T08:37:23.282368Z"
    },
    "id": "JDr5MACEOJEl"
   },
   "outputs": [],
   "source": [
    "county = pd.read_csv('../data/county.csv')"
   ]
  },
  {
   "cell_type": "code",
   "execution_count": 22,
   "metadata": {
    "ExecuteTime": {
     "end_time": "2022-01-16T08:37:23.311366Z",
     "start_time": "2022-01-16T08:37:23.297366Z"
    },
    "colab": {
     "base_uri": "https://localhost:8080/"
    },
    "id": "InvWMTR9rBQt",
    "outputId": "0b5d4630-0aaf-40f8-d2da-a1adcb24fd11"
   },
   "outputs": [
    {
     "name": "stdout",
     "output_type": "stream",
     "text": [
      "<class 'pandas.core.frame.DataFrame'>\n",
      "RangeIndex: 3142 entries, 0 to 3141\n",
      "Data columns (total 15 columns):\n",
      " #   Column             Non-Null Count  Dtype  \n",
      "---  ------             --------------  -----  \n",
      " 0   name               3142 non-null   object \n",
      " 1   state              3142 non-null   object \n",
      " 2   pop2000            3139 non-null   float64\n",
      " 3   pop2010            3142 non-null   int64  \n",
      " 4   pop2017            3139 non-null   float64\n",
      " 5   pop_change         3139 non-null   float64\n",
      " 6   poverty            3140 non-null   float64\n",
      " 7   homeownership      3142 non-null   float64\n",
      " 8   multi_unit         3142 non-null   float64\n",
      " 9   unemployment_rate  3139 non-null   float64\n",
      " 10  metro              3139 non-null   object \n",
      " 11  median_edu         3140 non-null   object \n",
      " 12  per_capita_income  3140 non-null   float64\n",
      " 13  median_hh_income   3140 non-null   float64\n",
      " 14  smoking_ban        2562 non-null   object \n",
      "dtypes: float64(9), int64(1), object(5)\n",
      "memory usage: 368.3+ KB\n"
     ]
    }
   ],
   "source": [
    "county.info()"
   ]
  },
  {
   "cell_type": "code",
   "execution_count": 23,
   "metadata": {
    "ExecuteTime": {
     "end_time": "2022-01-16T08:37:23.341929Z",
     "start_time": "2022-01-16T08:37:23.312370Z"
    },
    "colab": {
     "base_uri": "https://localhost:8080/",
     "height": 206
    },
    "id": "uAF8l5nhrCw7",
    "outputId": "ae8aee93-d152-4148-d2d8-abac56a27202"
   },
   "outputs": [
    {
     "data": {
      "text/html": [
       "<div>\n",
       "<style scoped>\n",
       "    .dataframe tbody tr th:only-of-type {\n",
       "        vertical-align: middle;\n",
       "    }\n",
       "\n",
       "    .dataframe tbody tr th {\n",
       "        vertical-align: top;\n",
       "    }\n",
       "\n",
       "    .dataframe thead th {\n",
       "        text-align: right;\n",
       "    }\n",
       "</style>\n",
       "<table border=\"1\" class=\"dataframe\">\n",
       "  <thead>\n",
       "    <tr style=\"text-align: right;\">\n",
       "      <th></th>\n",
       "      <th>name</th>\n",
       "      <th>state</th>\n",
       "      <th>pop2000</th>\n",
       "      <th>pop2010</th>\n",
       "      <th>pop2017</th>\n",
       "      <th>pop_change</th>\n",
       "      <th>poverty</th>\n",
       "      <th>homeownership</th>\n",
       "      <th>multi_unit</th>\n",
       "      <th>unemployment_rate</th>\n",
       "      <th>metro</th>\n",
       "      <th>median_edu</th>\n",
       "      <th>per_capita_income</th>\n",
       "      <th>median_hh_income</th>\n",
       "      <th>smoking_ban</th>\n",
       "    </tr>\n",
       "  </thead>\n",
       "  <tbody>\n",
       "    <tr>\n",
       "      <th>0</th>\n",
       "      <td>Autauga County</td>\n",
       "      <td>Alabama</td>\n",
       "      <td>43671.0</td>\n",
       "      <td>54571</td>\n",
       "      <td>55504.0</td>\n",
       "      <td>1.48</td>\n",
       "      <td>13.7</td>\n",
       "      <td>77.5</td>\n",
       "      <td>7.2</td>\n",
       "      <td>3.86</td>\n",
       "      <td>yes</td>\n",
       "      <td>some_college</td>\n",
       "      <td>27841.70</td>\n",
       "      <td>55317.0</td>\n",
       "      <td>none</td>\n",
       "    </tr>\n",
       "    <tr>\n",
       "      <th>1</th>\n",
       "      <td>Baldwin County</td>\n",
       "      <td>Alabama</td>\n",
       "      <td>140415.0</td>\n",
       "      <td>182265</td>\n",
       "      <td>212628.0</td>\n",
       "      <td>9.19</td>\n",
       "      <td>11.8</td>\n",
       "      <td>76.7</td>\n",
       "      <td>22.6</td>\n",
       "      <td>3.99</td>\n",
       "      <td>yes</td>\n",
       "      <td>some_college</td>\n",
       "      <td>27779.85</td>\n",
       "      <td>52562.0</td>\n",
       "      <td>none</td>\n",
       "    </tr>\n",
       "    <tr>\n",
       "      <th>2</th>\n",
       "      <td>Barbour County</td>\n",
       "      <td>Alabama</td>\n",
       "      <td>29038.0</td>\n",
       "      <td>27457</td>\n",
       "      <td>25270.0</td>\n",
       "      <td>-6.22</td>\n",
       "      <td>27.2</td>\n",
       "      <td>68.0</td>\n",
       "      <td>11.1</td>\n",
       "      <td>5.90</td>\n",
       "      <td>no</td>\n",
       "      <td>hs_diploma</td>\n",
       "      <td>17891.73</td>\n",
       "      <td>33368.0</td>\n",
       "      <td>partial</td>\n",
       "    </tr>\n",
       "    <tr>\n",
       "      <th>3</th>\n",
       "      <td>Bibb County</td>\n",
       "      <td>Alabama</td>\n",
       "      <td>20826.0</td>\n",
       "      <td>22915</td>\n",
       "      <td>22668.0</td>\n",
       "      <td>0.73</td>\n",
       "      <td>15.2</td>\n",
       "      <td>82.9</td>\n",
       "      <td>6.6</td>\n",
       "      <td>4.39</td>\n",
       "      <td>yes</td>\n",
       "      <td>hs_diploma</td>\n",
       "      <td>20572.05</td>\n",
       "      <td>43404.0</td>\n",
       "      <td>none</td>\n",
       "    </tr>\n",
       "    <tr>\n",
       "      <th>4</th>\n",
       "      <td>Blount County</td>\n",
       "      <td>Alabama</td>\n",
       "      <td>51024.0</td>\n",
       "      <td>57322</td>\n",
       "      <td>58013.0</td>\n",
       "      <td>0.68</td>\n",
       "      <td>15.6</td>\n",
       "      <td>82.0</td>\n",
       "      <td>3.7</td>\n",
       "      <td>4.02</td>\n",
       "      <td>yes</td>\n",
       "      <td>hs_diploma</td>\n",
       "      <td>21367.39</td>\n",
       "      <td>47412.0</td>\n",
       "      <td>none</td>\n",
       "    </tr>\n",
       "  </tbody>\n",
       "</table>\n",
       "</div>"
      ],
      "text/plain": [
       "             name    state   pop2000  pop2010   pop2017  pop_change  poverty  \\\n",
       "0  Autauga County  Alabama   43671.0    54571   55504.0        1.48     13.7   \n",
       "1  Baldwin County  Alabama  140415.0   182265  212628.0        9.19     11.8   \n",
       "2  Barbour County  Alabama   29038.0    27457   25270.0       -6.22     27.2   \n",
       "3     Bibb County  Alabama   20826.0    22915   22668.0        0.73     15.2   \n",
       "4   Blount County  Alabama   51024.0    57322   58013.0        0.68     15.6   \n",
       "\n",
       "   homeownership  multi_unit  unemployment_rate metro    median_edu  \\\n",
       "0           77.5         7.2               3.86   yes  some_college   \n",
       "1           76.7        22.6               3.99   yes  some_college   \n",
       "2           68.0        11.1               5.90    no    hs_diploma   \n",
       "3           82.9         6.6               4.39   yes    hs_diploma   \n",
       "4           82.0         3.7               4.02   yes    hs_diploma   \n",
       "\n",
       "   per_capita_income  median_hh_income smoking_ban  \n",
       "0           27841.70           55317.0        none  \n",
       "1           27779.85           52562.0        none  \n",
       "2           17891.73           33368.0     partial  \n",
       "3           20572.05           43404.0        none  \n",
       "4           21367.39           47412.0        none  "
      ]
     },
     "execution_count": 23,
     "metadata": {},
     "output_type": "execute_result"
    }
   ],
   "source": [
    "county.head()"
   ]
  },
  {
   "cell_type": "code",
   "execution_count": 24,
   "metadata": {
    "ExecuteTime": {
     "end_time": "2022-01-16T08:37:23.372053Z",
     "start_time": "2022-01-16T08:37:23.342934Z"
    },
    "colab": {
     "base_uri": "https://localhost:8080/",
     "height": 143
    },
    "id": "kEc5fDFUrPGE",
    "outputId": "8db60019-3a12-41a8-e777-b4b865f2c65a"
   },
   "outputs": [
    {
     "data": {
      "text/html": [
       "<div>\n",
       "<style scoped>\n",
       "    .dataframe tbody tr th:only-of-type {\n",
       "        vertical-align: middle;\n",
       "    }\n",
       "\n",
       "    .dataframe tbody tr th {\n",
       "        vertical-align: top;\n",
       "    }\n",
       "\n",
       "    .dataframe thead th {\n",
       "        text-align: right;\n",
       "    }\n",
       "</style>\n",
       "<table border=\"1\" class=\"dataframe\">\n",
       "  <thead>\n",
       "    <tr style=\"text-align: right;\">\n",
       "      <th></th>\n",
       "      <th>name</th>\n",
       "      <th>state</th>\n",
       "      <th>pop2000</th>\n",
       "      <th>pop2010</th>\n",
       "      <th>pop2017</th>\n",
       "      <th>pop_change</th>\n",
       "      <th>poverty</th>\n",
       "      <th>homeownership</th>\n",
       "      <th>multi_unit</th>\n",
       "      <th>unemployment_rate</th>\n",
       "      <th>metro</th>\n",
       "      <th>median_edu</th>\n",
       "      <th>per_capita_income</th>\n",
       "      <th>median_hh_income</th>\n",
       "      <th>smoking_ban</th>\n",
       "    </tr>\n",
       "  </thead>\n",
       "  <tbody>\n",
       "    <tr>\n",
       "      <th>89</th>\n",
       "      <td>Skagway</td>\n",
       "      <td>Alaska</td>\n",
       "      <td>NaN</td>\n",
       "      <td>968</td>\n",
       "      <td>NaN</td>\n",
       "      <td>NaN</td>\n",
       "      <td>5.6</td>\n",
       "      <td>59.1</td>\n",
       "      <td>27.2</td>\n",
       "      <td>10.56</td>\n",
       "      <td>no</td>\n",
       "      <td>some_college</td>\n",
       "      <td>38150.23</td>\n",
       "      <td>70673.0</td>\n",
       "      <td>NaN</td>\n",
       "    </tr>\n",
       "    <tr>\n",
       "      <th>93</th>\n",
       "      <td>Wrangell</td>\n",
       "      <td>Alaska</td>\n",
       "      <td>NaN</td>\n",
       "      <td>2369</td>\n",
       "      <td>NaN</td>\n",
       "      <td>NaN</td>\n",
       "      <td>11.7</td>\n",
       "      <td>78.7</td>\n",
       "      <td>11.9</td>\n",
       "      <td>7.71</td>\n",
       "      <td>no</td>\n",
       "      <td>some_college</td>\n",
       "      <td>30153.57</td>\n",
       "      <td>56094.0</td>\n",
       "      <td>NaN</td>\n",
       "    </tr>\n",
       "    <tr>\n",
       "      <th>251</th>\n",
       "      <td>Broomfield County</td>\n",
       "      <td>Colorado</td>\n",
       "      <td>NaN</td>\n",
       "      <td>55889</td>\n",
       "      <td>68341.0</td>\n",
       "      <td>13.78</td>\n",
       "      <td>5.2</td>\n",
       "      <td>74.4</td>\n",
       "      <td>21.7</td>\n",
       "      <td>2.63</td>\n",
       "      <td>yes</td>\n",
       "      <td>bachelors</td>\n",
       "      <td>44114.98</td>\n",
       "      <td>85639.0</td>\n",
       "      <td>NaN</td>\n",
       "    </tr>\n",
       "  </tbody>\n",
       "</table>\n",
       "</div>"
      ],
      "text/plain": [
       "                  name     state  pop2000  pop2010  pop2017  pop_change  \\\n",
       "89             Skagway    Alaska      NaN      968      NaN         NaN   \n",
       "93            Wrangell    Alaska      NaN     2369      NaN         NaN   \n",
       "251  Broomfield County  Colorado      NaN    55889  68341.0       13.78   \n",
       "\n",
       "     poverty  homeownership  multi_unit  unemployment_rate metro  \\\n",
       "89       5.6           59.1        27.2              10.56    no   \n",
       "93      11.7           78.7        11.9               7.71    no   \n",
       "251      5.2           74.4        21.7               2.63   yes   \n",
       "\n",
       "       median_edu  per_capita_income  median_hh_income smoking_ban  \n",
       "89   some_college           38150.23           70673.0         NaN  \n",
       "93   some_college           30153.57           56094.0         NaN  \n",
       "251     bachelors           44114.98           85639.0         NaN  "
      ]
     },
     "execution_count": 24,
     "metadata": {},
     "output_type": "execute_result"
    }
   ],
   "source": [
    "county[county['pop2000'].isnull()]"
   ]
  },
  {
   "cell_type": "code",
   "execution_count": 25,
   "metadata": {
    "ExecuteTime": {
     "end_time": "2022-01-16T08:37:23.402106Z",
     "start_time": "2022-01-16T08:37:23.373021Z"
    },
    "colab": {
     "base_uri": "https://localhost:8080/",
     "height": 424
    },
    "id": "VM1Zr583roST",
    "outputId": "684d1298-1486-4be5-f566-c7930cfa5464"
   },
   "outputs": [
    {
     "data": {
      "text/html": [
       "<div>\n",
       "<style scoped>\n",
       "    .dataframe tbody tr th:only-of-type {\n",
       "        vertical-align: middle;\n",
       "    }\n",
       "\n",
       "    .dataframe tbody tr th {\n",
       "        vertical-align: top;\n",
       "    }\n",
       "\n",
       "    .dataframe thead th {\n",
       "        text-align: right;\n",
       "    }\n",
       "</style>\n",
       "<table border=\"1\" class=\"dataframe\">\n",
       "  <thead>\n",
       "    <tr style=\"text-align: right;\">\n",
       "      <th></th>\n",
       "      <th>name</th>\n",
       "      <th>state</th>\n",
       "      <th>pop2000</th>\n",
       "      <th>pop2010</th>\n",
       "      <th>pop2017</th>\n",
       "      <th>pop_change</th>\n",
       "      <th>poverty</th>\n",
       "      <th>homeownership</th>\n",
       "      <th>multi_unit</th>\n",
       "      <th>unemployment_rate</th>\n",
       "      <th>metro</th>\n",
       "      <th>median_edu</th>\n",
       "      <th>per_capita_income</th>\n",
       "      <th>median_hh_income</th>\n",
       "      <th>smoking_ban</th>\n",
       "    </tr>\n",
       "  </thead>\n",
       "  <tbody>\n",
       "    <tr>\n",
       "      <th>0</th>\n",
       "      <td>Autauga County</td>\n",
       "      <td>Alabama</td>\n",
       "      <td>43671.0</td>\n",
       "      <td>54571</td>\n",
       "      <td>55504.0</td>\n",
       "      <td>1.48</td>\n",
       "      <td>13.7</td>\n",
       "      <td>77.5</td>\n",
       "      <td>7.2</td>\n",
       "      <td>3.86</td>\n",
       "      <td>yes</td>\n",
       "      <td>some_college</td>\n",
       "      <td>27841.70</td>\n",
       "      <td>55317.0</td>\n",
       "      <td>none</td>\n",
       "    </tr>\n",
       "    <tr>\n",
       "      <th>1</th>\n",
       "      <td>Baldwin County</td>\n",
       "      <td>Alabama</td>\n",
       "      <td>140415.0</td>\n",
       "      <td>182265</td>\n",
       "      <td>212628.0</td>\n",
       "      <td>9.19</td>\n",
       "      <td>11.8</td>\n",
       "      <td>76.7</td>\n",
       "      <td>22.6</td>\n",
       "      <td>3.99</td>\n",
       "      <td>yes</td>\n",
       "      <td>some_college</td>\n",
       "      <td>27779.85</td>\n",
       "      <td>52562.0</td>\n",
       "      <td>none</td>\n",
       "    </tr>\n",
       "    <tr>\n",
       "      <th>2</th>\n",
       "      <td>Barbour County</td>\n",
       "      <td>Alabama</td>\n",
       "      <td>29038.0</td>\n",
       "      <td>27457</td>\n",
       "      <td>25270.0</td>\n",
       "      <td>-6.22</td>\n",
       "      <td>27.2</td>\n",
       "      <td>68.0</td>\n",
       "      <td>11.1</td>\n",
       "      <td>5.90</td>\n",
       "      <td>no</td>\n",
       "      <td>hs_diploma</td>\n",
       "      <td>17891.73</td>\n",
       "      <td>33368.0</td>\n",
       "      <td>partial</td>\n",
       "    </tr>\n",
       "    <tr>\n",
       "      <th>3</th>\n",
       "      <td>Bibb County</td>\n",
       "      <td>Alabama</td>\n",
       "      <td>20826.0</td>\n",
       "      <td>22915</td>\n",
       "      <td>22668.0</td>\n",
       "      <td>0.73</td>\n",
       "      <td>15.2</td>\n",
       "      <td>82.9</td>\n",
       "      <td>6.6</td>\n",
       "      <td>4.39</td>\n",
       "      <td>yes</td>\n",
       "      <td>hs_diploma</td>\n",
       "      <td>20572.05</td>\n",
       "      <td>43404.0</td>\n",
       "      <td>none</td>\n",
       "    </tr>\n",
       "    <tr>\n",
       "      <th>4</th>\n",
       "      <td>Blount County</td>\n",
       "      <td>Alabama</td>\n",
       "      <td>51024.0</td>\n",
       "      <td>57322</td>\n",
       "      <td>58013.0</td>\n",
       "      <td>0.68</td>\n",
       "      <td>15.6</td>\n",
       "      <td>82.0</td>\n",
       "      <td>3.7</td>\n",
       "      <td>4.02</td>\n",
       "      <td>yes</td>\n",
       "      <td>hs_diploma</td>\n",
       "      <td>21367.39</td>\n",
       "      <td>47412.0</td>\n",
       "      <td>none</td>\n",
       "    </tr>\n",
       "    <tr>\n",
       "      <th>...</th>\n",
       "      <td>...</td>\n",
       "      <td>...</td>\n",
       "      <td>...</td>\n",
       "      <td>...</td>\n",
       "      <td>...</td>\n",
       "      <td>...</td>\n",
       "      <td>...</td>\n",
       "      <td>...</td>\n",
       "      <td>...</td>\n",
       "      <td>...</td>\n",
       "      <td>...</td>\n",
       "      <td>...</td>\n",
       "      <td>...</td>\n",
       "      <td>...</td>\n",
       "      <td>...</td>\n",
       "    </tr>\n",
       "    <tr>\n",
       "      <th>3137</th>\n",
       "      <td>Sweetwater County</td>\n",
       "      <td>Wyoming</td>\n",
       "      <td>37613.0</td>\n",
       "      <td>43806</td>\n",
       "      <td>43534.0</td>\n",
       "      <td>-3.57</td>\n",
       "      <td>12.0</td>\n",
       "      <td>73.7</td>\n",
       "      <td>14.6</td>\n",
       "      <td>4.55</td>\n",
       "      <td>no</td>\n",
       "      <td>some_college</td>\n",
       "      <td>30282.59</td>\n",
       "      <td>71083.0</td>\n",
       "      <td>none</td>\n",
       "    </tr>\n",
       "    <tr>\n",
       "      <th>3138</th>\n",
       "      <td>Teton County</td>\n",
       "      <td>Wyoming</td>\n",
       "      <td>18251.0</td>\n",
       "      <td>21294</td>\n",
       "      <td>23265.0</td>\n",
       "      <td>4.21</td>\n",
       "      <td>6.8</td>\n",
       "      <td>60.8</td>\n",
       "      <td>31.9</td>\n",
       "      <td>2.99</td>\n",
       "      <td>no</td>\n",
       "      <td>bachelors</td>\n",
       "      <td>48557.37</td>\n",
       "      <td>80049.0</td>\n",
       "      <td>partial</td>\n",
       "    </tr>\n",
       "    <tr>\n",
       "      <th>3139</th>\n",
       "      <td>Uinta County</td>\n",
       "      <td>Wyoming</td>\n",
       "      <td>19742.0</td>\n",
       "      <td>21118</td>\n",
       "      <td>20495.0</td>\n",
       "      <td>-2.22</td>\n",
       "      <td>14.9</td>\n",
       "      <td>73.7</td>\n",
       "      <td>17.0</td>\n",
       "      <td>4.50</td>\n",
       "      <td>no</td>\n",
       "      <td>some_college</td>\n",
       "      <td>27048.12</td>\n",
       "      <td>54672.0</td>\n",
       "      <td>none</td>\n",
       "    </tr>\n",
       "    <tr>\n",
       "      <th>3140</th>\n",
       "      <td>Washakie County</td>\n",
       "      <td>Wyoming</td>\n",
       "      <td>8289.0</td>\n",
       "      <td>8533</td>\n",
       "      <td>8064.0</td>\n",
       "      <td>-4.31</td>\n",
       "      <td>12.8</td>\n",
       "      <td>70.9</td>\n",
       "      <td>10.0</td>\n",
       "      <td>4.08</td>\n",
       "      <td>no</td>\n",
       "      <td>some_college</td>\n",
       "      <td>27494.83</td>\n",
       "      <td>51362.0</td>\n",
       "      <td>none</td>\n",
       "    </tr>\n",
       "    <tr>\n",
       "      <th>3141</th>\n",
       "      <td>Weston County</td>\n",
       "      <td>Wyoming</td>\n",
       "      <td>6644.0</td>\n",
       "      <td>7208</td>\n",
       "      <td>6927.0</td>\n",
       "      <td>-2.93</td>\n",
       "      <td>14.4</td>\n",
       "      <td>77.9</td>\n",
       "      <td>6.5</td>\n",
       "      <td>3.98</td>\n",
       "      <td>no</td>\n",
       "      <td>some_college</td>\n",
       "      <td>33296.70</td>\n",
       "      <td>59605.0</td>\n",
       "      <td>none</td>\n",
       "    </tr>\n",
       "  </tbody>\n",
       "</table>\n",
       "<p>2560 rows × 15 columns</p>\n",
       "</div>"
      ],
      "text/plain": [
       "                   name    state   pop2000  pop2010   pop2017  pop_change  \\\n",
       "0        Autauga County  Alabama   43671.0    54571   55504.0        1.48   \n",
       "1        Baldwin County  Alabama  140415.0   182265  212628.0        9.19   \n",
       "2        Barbour County  Alabama   29038.0    27457   25270.0       -6.22   \n",
       "3           Bibb County  Alabama   20826.0    22915   22668.0        0.73   \n",
       "4         Blount County  Alabama   51024.0    57322   58013.0        0.68   \n",
       "...                 ...      ...       ...      ...       ...         ...   \n",
       "3137  Sweetwater County  Wyoming   37613.0    43806   43534.0       -3.57   \n",
       "3138       Teton County  Wyoming   18251.0    21294   23265.0        4.21   \n",
       "3139       Uinta County  Wyoming   19742.0    21118   20495.0       -2.22   \n",
       "3140    Washakie County  Wyoming    8289.0     8533    8064.0       -4.31   \n",
       "3141      Weston County  Wyoming    6644.0     7208    6927.0       -2.93   \n",
       "\n",
       "      poverty  homeownership  multi_unit  unemployment_rate metro  \\\n",
       "0        13.7           77.5         7.2               3.86   yes   \n",
       "1        11.8           76.7        22.6               3.99   yes   \n",
       "2        27.2           68.0        11.1               5.90    no   \n",
       "3        15.2           82.9         6.6               4.39   yes   \n",
       "4        15.6           82.0         3.7               4.02   yes   \n",
       "...       ...            ...         ...                ...   ...   \n",
       "3137     12.0           73.7        14.6               4.55    no   \n",
       "3138      6.8           60.8        31.9               2.99    no   \n",
       "3139     14.9           73.7        17.0               4.50    no   \n",
       "3140     12.8           70.9        10.0               4.08    no   \n",
       "3141     14.4           77.9         6.5               3.98    no   \n",
       "\n",
       "        median_edu  per_capita_income  median_hh_income smoking_ban  \n",
       "0     some_college           27841.70           55317.0        none  \n",
       "1     some_college           27779.85           52562.0        none  \n",
       "2       hs_diploma           17891.73           33368.0     partial  \n",
       "3       hs_diploma           20572.05           43404.0        none  \n",
       "4       hs_diploma           21367.39           47412.0        none  \n",
       "...            ...                ...               ...         ...  \n",
       "3137  some_college           30282.59           71083.0        none  \n",
       "3138     bachelors           48557.37           80049.0     partial  \n",
       "3139  some_college           27048.12           54672.0        none  \n",
       "3140  some_college           27494.83           51362.0        none  \n",
       "3141  some_college           33296.70           59605.0        none  \n",
       "\n",
       "[2560 rows x 15 columns]"
      ]
     },
     "execution_count": 25,
     "metadata": {},
     "output_type": "execute_result"
    }
   ],
   "source": [
    "county.dropna()"
   ]
  },
  {
   "cell_type": "code",
   "execution_count": 26,
   "metadata": {
    "ExecuteTime": {
     "end_time": "2022-01-16T08:37:23.417078Z",
     "start_time": "2022-01-16T08:37:23.403082Z"
    },
    "colab": {
     "base_uri": "https://localhost:8080/"
    },
    "id": "XHFskMe1r1MC",
    "outputId": "69635a04-49c2-4721-b75a-686bba5d0390"
   },
   "outputs": [
    {
     "name": "stdout",
     "output_type": "stream",
     "text": [
      "<class 'pandas.core.frame.DataFrame'>\n",
      "RangeIndex: 3142 entries, 0 to 3141\n",
      "Data columns (total 15 columns):\n",
      " #   Column             Non-Null Count  Dtype  \n",
      "---  ------             --------------  -----  \n",
      " 0   name               3142 non-null   object \n",
      " 1   state              3142 non-null   object \n",
      " 2   pop2000            3139 non-null   float64\n",
      " 3   pop2010            3142 non-null   int64  \n",
      " 4   pop2017            3139 non-null   float64\n",
      " 5   pop_change         3139 non-null   float64\n",
      " 6   poverty            3140 non-null   float64\n",
      " 7   homeownership      3142 non-null   float64\n",
      " 8   multi_unit         3142 non-null   float64\n",
      " 9   unemployment_rate  3139 non-null   float64\n",
      " 10  metro              3139 non-null   object \n",
      " 11  median_edu         3140 non-null   object \n",
      " 12  per_capita_income  3140 non-null   float64\n",
      " 13  median_hh_income   3140 non-null   float64\n",
      " 14  smoking_ban        2562 non-null   object \n",
      "dtypes: float64(9), int64(1), object(5)\n",
      "memory usage: 368.3+ KB\n"
     ]
    }
   ],
   "source": [
    "county.info()"
   ]
  },
  {
   "cell_type": "code",
   "execution_count": 27,
   "metadata": {
    "ExecuteTime": {
     "end_time": "2022-01-16T08:37:23.432710Z",
     "start_time": "2022-01-16T08:37:23.418077Z"
    },
    "id": "rn1Ilu_Qr91i"
   },
   "outputs": [],
   "source": [
    "county.dropna(inplace=True)"
   ]
  },
  {
   "cell_type": "code",
   "execution_count": 28,
   "metadata": {
    "ExecuteTime": {
     "end_time": "2022-01-16T08:37:23.447560Z",
     "start_time": "2022-01-16T08:37:23.436674Z"
    },
    "colab": {
     "base_uri": "https://localhost:8080/"
    },
    "id": "v10xe2J0sK2j",
    "outputId": "e14c0afd-2709-492e-a088-314e45e6ddb6"
   },
   "outputs": [
    {
     "name": "stdout",
     "output_type": "stream",
     "text": [
      "<class 'pandas.core.frame.DataFrame'>\n",
      "Index: 2560 entries, 0 to 3141\n",
      "Data columns (total 15 columns):\n",
      " #   Column             Non-Null Count  Dtype  \n",
      "---  ------             --------------  -----  \n",
      " 0   name               2560 non-null   object \n",
      " 1   state              2560 non-null   object \n",
      " 2   pop2000            2560 non-null   float64\n",
      " 3   pop2010            2560 non-null   int64  \n",
      " 4   pop2017            2560 non-null   float64\n",
      " 5   pop_change         2560 non-null   float64\n",
      " 6   poverty            2560 non-null   float64\n",
      " 7   homeownership      2560 non-null   float64\n",
      " 8   multi_unit         2560 non-null   float64\n",
      " 9   unemployment_rate  2560 non-null   float64\n",
      " 10  metro              2560 non-null   object \n",
      " 11  median_edu         2560 non-null   object \n",
      " 12  per_capita_income  2560 non-null   float64\n",
      " 13  median_hh_income   2560 non-null   float64\n",
      " 14  smoking_ban        2560 non-null   object \n",
      "dtypes: float64(9), int64(1), object(5)\n",
      "memory usage: 320.0+ KB\n"
     ]
    }
   ],
   "source": [
    "county.info()"
   ]
  },
  {
   "cell_type": "code",
   "execution_count": 29,
   "metadata": {
    "ExecuteTime": {
     "end_time": "2022-01-16T08:37:23.477819Z",
     "start_time": "2022-01-16T08:37:23.449251Z"
    },
    "colab": {
     "base_uri": "https://localhost:8080/",
     "height": 206
    },
    "id": "fpWwRjc_sMtS",
    "outputId": "4702867d-5569-44db-f088-635d305b8420"
   },
   "outputs": [
    {
     "data": {
      "text/html": [
       "<div>\n",
       "<style scoped>\n",
       "    .dataframe tbody tr th:only-of-type {\n",
       "        vertical-align: middle;\n",
       "    }\n",
       "\n",
       "    .dataframe tbody tr th {\n",
       "        vertical-align: top;\n",
       "    }\n",
       "\n",
       "    .dataframe thead th {\n",
       "        text-align: right;\n",
       "    }\n",
       "</style>\n",
       "<table border=\"1\" class=\"dataframe\">\n",
       "  <thead>\n",
       "    <tr style=\"text-align: right;\">\n",
       "      <th></th>\n",
       "      <th>name</th>\n",
       "      <th>state</th>\n",
       "      <th>pop2000</th>\n",
       "      <th>pop2010</th>\n",
       "      <th>pop2017</th>\n",
       "      <th>pop_change</th>\n",
       "      <th>poverty</th>\n",
       "      <th>homeownership</th>\n",
       "      <th>multi_unit</th>\n",
       "      <th>unemployment_rate</th>\n",
       "      <th>metro</th>\n",
       "      <th>median_edu</th>\n",
       "      <th>per_capita_income</th>\n",
       "      <th>median_hh_income</th>\n",
       "      <th>smoking_ban</th>\n",
       "    </tr>\n",
       "  </thead>\n",
       "  <tbody>\n",
       "    <tr>\n",
       "      <th>0</th>\n",
       "      <td>Autauga County</td>\n",
       "      <td>Alabama</td>\n",
       "      <td>43671.0</td>\n",
       "      <td>54571</td>\n",
       "      <td>55504.0</td>\n",
       "      <td>1.48</td>\n",
       "      <td>13.7</td>\n",
       "      <td>77.5</td>\n",
       "      <td>7.2</td>\n",
       "      <td>3.86</td>\n",
       "      <td>yes</td>\n",
       "      <td>some_college</td>\n",
       "      <td>27841.70</td>\n",
       "      <td>55317.0</td>\n",
       "      <td>none</td>\n",
       "    </tr>\n",
       "    <tr>\n",
       "      <th>1</th>\n",
       "      <td>Baldwin County</td>\n",
       "      <td>Alabama</td>\n",
       "      <td>140415.0</td>\n",
       "      <td>182265</td>\n",
       "      <td>212628.0</td>\n",
       "      <td>9.19</td>\n",
       "      <td>11.8</td>\n",
       "      <td>76.7</td>\n",
       "      <td>22.6</td>\n",
       "      <td>3.99</td>\n",
       "      <td>yes</td>\n",
       "      <td>some_college</td>\n",
       "      <td>27779.85</td>\n",
       "      <td>52562.0</td>\n",
       "      <td>none</td>\n",
       "    </tr>\n",
       "    <tr>\n",
       "      <th>2</th>\n",
       "      <td>Barbour County</td>\n",
       "      <td>Alabama</td>\n",
       "      <td>29038.0</td>\n",
       "      <td>27457</td>\n",
       "      <td>25270.0</td>\n",
       "      <td>-6.22</td>\n",
       "      <td>27.2</td>\n",
       "      <td>68.0</td>\n",
       "      <td>11.1</td>\n",
       "      <td>5.90</td>\n",
       "      <td>no</td>\n",
       "      <td>hs_diploma</td>\n",
       "      <td>17891.73</td>\n",
       "      <td>33368.0</td>\n",
       "      <td>partial</td>\n",
       "    </tr>\n",
       "    <tr>\n",
       "      <th>3</th>\n",
       "      <td>Bibb County</td>\n",
       "      <td>Alabama</td>\n",
       "      <td>20826.0</td>\n",
       "      <td>22915</td>\n",
       "      <td>22668.0</td>\n",
       "      <td>0.73</td>\n",
       "      <td>15.2</td>\n",
       "      <td>82.9</td>\n",
       "      <td>6.6</td>\n",
       "      <td>4.39</td>\n",
       "      <td>yes</td>\n",
       "      <td>hs_diploma</td>\n",
       "      <td>20572.05</td>\n",
       "      <td>43404.0</td>\n",
       "      <td>none</td>\n",
       "    </tr>\n",
       "    <tr>\n",
       "      <th>4</th>\n",
       "      <td>Blount County</td>\n",
       "      <td>Alabama</td>\n",
       "      <td>51024.0</td>\n",
       "      <td>57322</td>\n",
       "      <td>58013.0</td>\n",
       "      <td>0.68</td>\n",
       "      <td>15.6</td>\n",
       "      <td>82.0</td>\n",
       "      <td>3.7</td>\n",
       "      <td>4.02</td>\n",
       "      <td>yes</td>\n",
       "      <td>hs_diploma</td>\n",
       "      <td>21367.39</td>\n",
       "      <td>47412.0</td>\n",
       "      <td>none</td>\n",
       "    </tr>\n",
       "  </tbody>\n",
       "</table>\n",
       "</div>"
      ],
      "text/plain": [
       "             name    state   pop2000  pop2010   pop2017  pop_change  poverty  \\\n",
       "0  Autauga County  Alabama   43671.0    54571   55504.0        1.48     13.7   \n",
       "1  Baldwin County  Alabama  140415.0   182265  212628.0        9.19     11.8   \n",
       "2  Barbour County  Alabama   29038.0    27457   25270.0       -6.22     27.2   \n",
       "3     Bibb County  Alabama   20826.0    22915   22668.0        0.73     15.2   \n",
       "4   Blount County  Alabama   51024.0    57322   58013.0        0.68     15.6   \n",
       "\n",
       "   homeownership  multi_unit  unemployment_rate metro    median_edu  \\\n",
       "0           77.5         7.2               3.86   yes  some_college   \n",
       "1           76.7        22.6               3.99   yes  some_college   \n",
       "2           68.0        11.1               5.90    no    hs_diploma   \n",
       "3           82.9         6.6               4.39   yes    hs_diploma   \n",
       "4           82.0         3.7               4.02   yes    hs_diploma   \n",
       "\n",
       "   per_capita_income  median_hh_income smoking_ban  \n",
       "0           27841.70           55317.0        none  \n",
       "1           27779.85           52562.0        none  \n",
       "2           17891.73           33368.0     partial  \n",
       "3           20572.05           43404.0        none  \n",
       "4           21367.39           47412.0        none  "
      ]
     },
     "execution_count": 29,
     "metadata": {},
     "output_type": "execute_result"
    }
   ],
   "source": [
    "county.head()"
   ]
  },
  {
   "cell_type": "code",
   "execution_count": 30,
   "metadata": {
    "ExecuteTime": {
     "end_time": "2022-01-16T08:37:23.493521Z",
     "start_time": "2022-01-16T08:37:23.479483Z"
    },
    "id": "3mJD3VhHsRba"
   },
   "outputs": [],
   "source": [
    "county_pop_gain = county[county['pop_change'] > 0]"
   ]
  },
  {
   "cell_type": "code",
   "execution_count": 31,
   "metadata": {
    "ExecuteTime": {
     "end_time": "2022-01-16T08:37:23.524059Z",
     "start_time": "2022-01-16T08:37:23.495482Z"
    },
    "colab": {
     "base_uri": "https://localhost:8080/",
     "height": 206
    },
    "id": "_Un7HpBtsbE7",
    "outputId": "7575ceb4-db61-43ad-e837-235926b087a7"
   },
   "outputs": [
    {
     "data": {
      "text/html": [
       "<div>\n",
       "<style scoped>\n",
       "    .dataframe tbody tr th:only-of-type {\n",
       "        vertical-align: middle;\n",
       "    }\n",
       "\n",
       "    .dataframe tbody tr th {\n",
       "        vertical-align: top;\n",
       "    }\n",
       "\n",
       "    .dataframe thead th {\n",
       "        text-align: right;\n",
       "    }\n",
       "</style>\n",
       "<table border=\"1\" class=\"dataframe\">\n",
       "  <thead>\n",
       "    <tr style=\"text-align: right;\">\n",
       "      <th></th>\n",
       "      <th>name</th>\n",
       "      <th>state</th>\n",
       "      <th>pop2000</th>\n",
       "      <th>pop2010</th>\n",
       "      <th>pop2017</th>\n",
       "      <th>pop_change</th>\n",
       "      <th>poverty</th>\n",
       "      <th>homeownership</th>\n",
       "      <th>multi_unit</th>\n",
       "      <th>unemployment_rate</th>\n",
       "      <th>metro</th>\n",
       "      <th>median_edu</th>\n",
       "      <th>per_capita_income</th>\n",
       "      <th>median_hh_income</th>\n",
       "      <th>smoking_ban</th>\n",
       "    </tr>\n",
       "  </thead>\n",
       "  <tbody>\n",
       "    <tr>\n",
       "      <th>0</th>\n",
       "      <td>Autauga County</td>\n",
       "      <td>Alabama</td>\n",
       "      <td>43671.0</td>\n",
       "      <td>54571</td>\n",
       "      <td>55504.0</td>\n",
       "      <td>1.48</td>\n",
       "      <td>13.7</td>\n",
       "      <td>77.5</td>\n",
       "      <td>7.2</td>\n",
       "      <td>3.86</td>\n",
       "      <td>yes</td>\n",
       "      <td>some_college</td>\n",
       "      <td>27841.70</td>\n",
       "      <td>55317.0</td>\n",
       "      <td>none</td>\n",
       "    </tr>\n",
       "    <tr>\n",
       "      <th>1</th>\n",
       "      <td>Baldwin County</td>\n",
       "      <td>Alabama</td>\n",
       "      <td>140415.0</td>\n",
       "      <td>182265</td>\n",
       "      <td>212628.0</td>\n",
       "      <td>9.19</td>\n",
       "      <td>11.8</td>\n",
       "      <td>76.7</td>\n",
       "      <td>22.6</td>\n",
       "      <td>3.99</td>\n",
       "      <td>yes</td>\n",
       "      <td>some_college</td>\n",
       "      <td>27779.85</td>\n",
       "      <td>52562.0</td>\n",
       "      <td>none</td>\n",
       "    </tr>\n",
       "    <tr>\n",
       "      <th>3</th>\n",
       "      <td>Bibb County</td>\n",
       "      <td>Alabama</td>\n",
       "      <td>20826.0</td>\n",
       "      <td>22915</td>\n",
       "      <td>22668.0</td>\n",
       "      <td>0.73</td>\n",
       "      <td>15.2</td>\n",
       "      <td>82.9</td>\n",
       "      <td>6.6</td>\n",
       "      <td>4.39</td>\n",
       "      <td>yes</td>\n",
       "      <td>hs_diploma</td>\n",
       "      <td>20572.05</td>\n",
       "      <td>43404.0</td>\n",
       "      <td>none</td>\n",
       "    </tr>\n",
       "    <tr>\n",
       "      <th>4</th>\n",
       "      <td>Blount County</td>\n",
       "      <td>Alabama</td>\n",
       "      <td>51024.0</td>\n",
       "      <td>57322</td>\n",
       "      <td>58013.0</td>\n",
       "      <td>0.68</td>\n",
       "      <td>15.6</td>\n",
       "      <td>82.0</td>\n",
       "      <td>3.7</td>\n",
       "      <td>4.02</td>\n",
       "      <td>yes</td>\n",
       "      <td>hs_diploma</td>\n",
       "      <td>21367.39</td>\n",
       "      <td>47412.0</td>\n",
       "      <td>none</td>\n",
       "    </tr>\n",
       "    <tr>\n",
       "      <th>10</th>\n",
       "      <td>Chilton County</td>\n",
       "      <td>Alabama</td>\n",
       "      <td>39593.0</td>\n",
       "      <td>43643</td>\n",
       "      <td>44067.0</td>\n",
       "      <td>0.97</td>\n",
       "      <td>19.4</td>\n",
       "      <td>75.1</td>\n",
       "      <td>4.4</td>\n",
       "      <td>4.05</td>\n",
       "      <td>yes</td>\n",
       "      <td>hs_diploma</td>\n",
       "      <td>22793.82</td>\n",
       "      <td>43501.0</td>\n",
       "      <td>none</td>\n",
       "    </tr>\n",
       "  </tbody>\n",
       "</table>\n",
       "</div>"
      ],
      "text/plain": [
       "              name    state   pop2000  pop2010   pop2017  pop_change  poverty  \\\n",
       "0   Autauga County  Alabama   43671.0    54571   55504.0        1.48     13.7   \n",
       "1   Baldwin County  Alabama  140415.0   182265  212628.0        9.19     11.8   \n",
       "3      Bibb County  Alabama   20826.0    22915   22668.0        0.73     15.2   \n",
       "4    Blount County  Alabama   51024.0    57322   58013.0        0.68     15.6   \n",
       "10  Chilton County  Alabama   39593.0    43643   44067.0        0.97     19.4   \n",
       "\n",
       "    homeownership  multi_unit  unemployment_rate metro    median_edu  \\\n",
       "0            77.5         7.2               3.86   yes  some_college   \n",
       "1            76.7        22.6               3.99   yes  some_college   \n",
       "3            82.9         6.6               4.39   yes    hs_diploma   \n",
       "4            82.0         3.7               4.02   yes    hs_diploma   \n",
       "10           75.1         4.4               4.05   yes    hs_diploma   \n",
       "\n",
       "    per_capita_income  median_hh_income smoking_ban  \n",
       "0            27841.70           55317.0        none  \n",
       "1            27779.85           52562.0        none  \n",
       "3            20572.05           43404.0        none  \n",
       "4            21367.39           47412.0        none  \n",
       "10           22793.82           43501.0        none  "
      ]
     },
     "execution_count": 31,
     "metadata": {},
     "output_type": "execute_result"
    }
   ],
   "source": [
    "county_pop_gain.head()"
   ]
  },
  {
   "cell_type": "code",
   "execution_count": 32,
   "metadata": {
    "ExecuteTime": {
     "end_time": "2022-01-16T08:37:23.539026Z",
     "start_time": "2022-01-16T08:37:23.526064Z"
    },
    "id": "cY5_StI0seXy"
   },
   "outputs": [],
   "source": [
    "county_pop_no_gain = county[county['pop_change'] <= 0]"
   ]
  },
  {
   "cell_type": "code",
   "execution_count": 33,
   "metadata": {
    "ExecuteTime": {
     "end_time": "2022-01-16T08:37:23.569063Z",
     "start_time": "2022-01-16T08:37:23.541028Z"
    },
    "colab": {
     "base_uri": "https://localhost:8080/",
     "height": 206
    },
    "id": "wRs4t3fBslQU",
    "outputId": "6da5160a-1d90-4593-8745-f9c2526ab3c4"
   },
   "outputs": [
    {
     "data": {
      "text/html": [
       "<div>\n",
       "<style scoped>\n",
       "    .dataframe tbody tr th:only-of-type {\n",
       "        vertical-align: middle;\n",
       "    }\n",
       "\n",
       "    .dataframe tbody tr th {\n",
       "        vertical-align: top;\n",
       "    }\n",
       "\n",
       "    .dataframe thead th {\n",
       "        text-align: right;\n",
       "    }\n",
       "</style>\n",
       "<table border=\"1\" class=\"dataframe\">\n",
       "  <thead>\n",
       "    <tr style=\"text-align: right;\">\n",
       "      <th></th>\n",
       "      <th>name</th>\n",
       "      <th>state</th>\n",
       "      <th>pop2000</th>\n",
       "      <th>pop2010</th>\n",
       "      <th>pop2017</th>\n",
       "      <th>pop_change</th>\n",
       "      <th>poverty</th>\n",
       "      <th>homeownership</th>\n",
       "      <th>multi_unit</th>\n",
       "      <th>unemployment_rate</th>\n",
       "      <th>metro</th>\n",
       "      <th>median_edu</th>\n",
       "      <th>per_capita_income</th>\n",
       "      <th>median_hh_income</th>\n",
       "      <th>smoking_ban</th>\n",
       "    </tr>\n",
       "  </thead>\n",
       "  <tbody>\n",
       "    <tr>\n",
       "      <th>2</th>\n",
       "      <td>Barbour County</td>\n",
       "      <td>Alabama</td>\n",
       "      <td>29038.0</td>\n",
       "      <td>27457</td>\n",
       "      <td>25270.0</td>\n",
       "      <td>-6.22</td>\n",
       "      <td>27.2</td>\n",
       "      <td>68.0</td>\n",
       "      <td>11.1</td>\n",
       "      <td>5.90</td>\n",
       "      <td>no</td>\n",
       "      <td>hs_diploma</td>\n",
       "      <td>17891.73</td>\n",
       "      <td>33368.0</td>\n",
       "      <td>partial</td>\n",
       "    </tr>\n",
       "    <tr>\n",
       "      <th>5</th>\n",
       "      <td>Bullock County</td>\n",
       "      <td>Alabama</td>\n",
       "      <td>11714.0</td>\n",
       "      <td>10914</td>\n",
       "      <td>10309.0</td>\n",
       "      <td>-2.28</td>\n",
       "      <td>28.5</td>\n",
       "      <td>76.9</td>\n",
       "      <td>9.9</td>\n",
       "      <td>4.93</td>\n",
       "      <td>no</td>\n",
       "      <td>hs_diploma</td>\n",
       "      <td>15444.16</td>\n",
       "      <td>29655.0</td>\n",
       "      <td>none</td>\n",
       "    </tr>\n",
       "    <tr>\n",
       "      <th>8</th>\n",
       "      <td>Chambers County</td>\n",
       "      <td>Alabama</td>\n",
       "      <td>36583.0</td>\n",
       "      <td>34215</td>\n",
       "      <td>33713.0</td>\n",
       "      <td>-1.20</td>\n",
       "      <td>18.8</td>\n",
       "      <td>71.4</td>\n",
       "      <td>8.7</td>\n",
       "      <td>4.08</td>\n",
       "      <td>no</td>\n",
       "      <td>hs_diploma</td>\n",
       "      <td>21079.51</td>\n",
       "      <td>37342.0</td>\n",
       "      <td>none</td>\n",
       "    </tr>\n",
       "    <tr>\n",
       "      <th>9</th>\n",
       "      <td>Cherokee County</td>\n",
       "      <td>Alabama</td>\n",
       "      <td>23988.0</td>\n",
       "      <td>25989</td>\n",
       "      <td>25857.0</td>\n",
       "      <td>-0.60</td>\n",
       "      <td>16.1</td>\n",
       "      <td>77.5</td>\n",
       "      <td>4.3</td>\n",
       "      <td>4.05</td>\n",
       "      <td>no</td>\n",
       "      <td>hs_diploma</td>\n",
       "      <td>23067.93</td>\n",
       "      <td>40041.0</td>\n",
       "      <td>none</td>\n",
       "    </tr>\n",
       "    <tr>\n",
       "      <th>11</th>\n",
       "      <td>Choctaw County</td>\n",
       "      <td>Alabama</td>\n",
       "      <td>15922.0</td>\n",
       "      <td>13859</td>\n",
       "      <td>12945.0</td>\n",
       "      <td>-3.37</td>\n",
       "      <td>22.3</td>\n",
       "      <td>85.6</td>\n",
       "      <td>3.9</td>\n",
       "      <td>6.39</td>\n",
       "      <td>no</td>\n",
       "      <td>hs_diploma</td>\n",
       "      <td>20363.87</td>\n",
       "      <td>32122.0</td>\n",
       "      <td>none</td>\n",
       "    </tr>\n",
       "  </tbody>\n",
       "</table>\n",
       "</div>"
      ],
      "text/plain": [
       "               name    state  pop2000  pop2010  pop2017  pop_change  poverty  \\\n",
       "2    Barbour County  Alabama  29038.0    27457  25270.0       -6.22     27.2   \n",
       "5    Bullock County  Alabama  11714.0    10914  10309.0       -2.28     28.5   \n",
       "8   Chambers County  Alabama  36583.0    34215  33713.0       -1.20     18.8   \n",
       "9   Cherokee County  Alabama  23988.0    25989  25857.0       -0.60     16.1   \n",
       "11   Choctaw County  Alabama  15922.0    13859  12945.0       -3.37     22.3   \n",
       "\n",
       "    homeownership  multi_unit  unemployment_rate metro  median_edu  \\\n",
       "2            68.0        11.1               5.90    no  hs_diploma   \n",
       "5            76.9         9.9               4.93    no  hs_diploma   \n",
       "8            71.4         8.7               4.08    no  hs_diploma   \n",
       "9            77.5         4.3               4.05    no  hs_diploma   \n",
       "11           85.6         3.9               6.39    no  hs_diploma   \n",
       "\n",
       "    per_capita_income  median_hh_income smoking_ban  \n",
       "2            17891.73           33368.0     partial  \n",
       "5            15444.16           29655.0        none  \n",
       "8            21079.51           37342.0        none  \n",
       "9            23067.93           40041.0        none  \n",
       "11           20363.87           32122.0        none  "
      ]
     },
     "execution_count": 33,
     "metadata": {},
     "output_type": "execute_result"
    }
   ],
   "source": [
    "county_pop_no_gain.head()"
   ]
  },
  {
   "cell_type": "code",
   "execution_count": 34,
   "metadata": {
    "ExecuteTime": {
     "end_time": "2022-01-16T08:37:23.584028Z",
     "start_time": "2022-01-16T08:37:23.570028Z"
    },
    "id": "G3bBTuwYsmda"
   },
   "outputs": [],
   "source": [
    "random_state = 42\n",
    "\n",
    "# 100 random sample of pop gain\n",
    "county_pop_gain_sample = county_pop_gain.sample(n = 100, random_state = random_state)\n",
    "\n",
    "# 50 random sample of pop gain\n",
    "county_pop_no_gain_sample = county_pop_no_gain.sample(n = 50, random_state = random_state)"
   ]
  },
  {
   "cell_type": "code",
   "execution_count": 35,
   "metadata": {
    "ExecuteTime": {
     "end_time": "2022-01-16T08:37:23.599055Z",
     "start_time": "2022-01-16T08:37:23.585029Z"
    },
    "colab": {
     "base_uri": "https://localhost:8080/"
    },
    "id": "iAA5zNB0uI1b",
    "outputId": "593e8f92-058d-434a-aa90-0866b0dc8293"
   },
   "outputs": [
    {
     "data": {
      "text/plain": [
       "2880    0.95\n",
       "745     2.19\n",
       "1716    1.35\n",
       "2074    0.32\n",
       "2192    0.17\n",
       "        ... \n",
       "378     6.11\n",
       "227     2.79\n",
       "1456    0.19\n",
       "1973    1.34\n",
       "2886    0.04\n",
       "Name: pop_change, Length: 100, dtype: float64"
      ]
     },
     "execution_count": 35,
     "metadata": {},
     "output_type": "execute_result"
    }
   ],
   "source": [
    "county_pop_gain_sample['pop_change']"
   ]
  },
  {
   "cell_type": "code",
   "execution_count": 36,
   "metadata": {
    "ExecuteTime": {
     "end_time": "2022-01-16T08:37:23.614053Z",
     "start_time": "2022-01-16T08:37:23.600054Z"
    },
    "colab": {
     "base_uri": "https://localhost:8080/"
    },
    "id": "HnHmcZrfuLJl",
    "outputId": "30673487-1aa1-4219-8c77-c84cf69ef437"
   },
   "outputs": [
    {
     "data": {
      "text/plain": [
       "3052   -1.55\n",
       "1710   -1.16\n",
       "1515   -1.43\n",
       "2143   -6.63\n",
       "2938   -0.37\n",
       "2921   -5.16\n",
       "689    -2.66\n",
       "1452   -2.80\n",
       "820    -4.23\n",
       "1053   -1.33\n",
       "2835   -0.14\n",
       "1678   -2.08\n",
       "130    -6.26\n",
       "75     -1.29\n",
       "674    -0.70\n",
       "1442   -4.93\n",
       "2246   -3.26\n",
       "2643   -0.11\n",
       "675    -1.85\n",
       "1493   -0.86\n",
       "1105   -2.65\n",
       "932    -6.95\n",
       "1159   -1.15\n",
       "1282   -1.84\n",
       "2255   -6.57\n",
       "310    -2.61\n",
       "2576   -0.34\n",
       "662    -1.83\n",
       "1559   -3.23\n",
       "1444   -1.01\n",
       "193    -1.29\n",
       "2160   -1.68\n",
       "1704   -1.07\n",
       "315    -1.08\n",
       "2297   -2.68\n",
       "1570    0.00\n",
       "91     -5.06\n",
       "1915   -0.22\n",
       "2427   -3.43\n",
       "3050   -0.73\n",
       "1061   -0.01\n",
       "2392   -1.43\n",
       "2287   -0.53\n",
       "42     -5.46\n",
       "1364   -1.89\n",
       "3099   -1.66\n",
       "829    -3.25\n",
       "74     -1.18\n",
       "1684   -2.45\n",
       "1695   -1.68\n",
       "Name: pop_change, dtype: float64"
      ]
     },
     "execution_count": 36,
     "metadata": {},
     "output_type": "execute_result"
    }
   ],
   "source": [
    "county_pop_no_gain_sample['pop_change']"
   ]
  },
  {
   "cell_type": "code",
   "execution_count": 37,
   "metadata": {
    "ExecuteTime": {
     "end_time": "2022-01-16T08:37:23.704075Z",
     "start_time": "2022-01-16T08:37:23.615053Z"
    },
    "colab": {
     "base_uri": "https://localhost:8080/",
     "height": 489
    },
    "id": "cP7QZc3muP60",
    "outputId": "786eaeb2-0ce2-45f0-97f2-6b0fef2bf788"
   },
   "outputs": [
    {
     "data": {
      "text/plain": [
       "<Axes: ylabel='median_hh_income'>"
      ]
     },
     "execution_count": 37,
     "metadata": {},
     "output_type": "execute_result"
    },
    {
     "data": {
      "image/png": "[encoded data removed]",
      "text/plain": [
       "<Figure size 1200x800 with 1 Axes>"
      ]
     },
     "metadata": {},
     "output_type": "display_data"
    }
   ],
   "source": [
    "sns.boxplot(y=county_pop_gain_sample['median_hh_income'])"
   ]
  },
  {
   "cell_type": "code",
   "execution_count": 38,
   "metadata": {
    "ExecuteTime": {
     "end_time": "2022-01-16T08:37:23.795368Z",
     "start_time": "2022-01-16T08:37:23.706075Z"
    },
    "colab": {
     "base_uri": "https://localhost:8080/",
     "height": 486
    },
    "id": "s0aiWVtqu6Os",
    "outputId": "ef533666-3167-4c67-ccdf-f5de3e69df7a"
   },
   "outputs": [
    {
     "data": {
      "text/plain": [
       "<Axes: ylabel='median_hh_income'>"
      ]
     },
     "execution_count": 38,
     "metadata": {},
     "output_type": "execute_result"
    },
    {
     "data": {
      "image/png": "[encoded data removed]",
      "text/plain": [
       "<Figure size 1200x800 with 1 Axes>"
      ]
     },
     "metadata": {},
     "output_type": "display_data"
    }
   ],
   "source": [
    "sns.boxplot(y=county_pop_no_gain_sample['median_hh_income'])"
   ]
  },
  {
   "cell_type": "code",
   "execution_count": 39,
   "metadata": {
    "ExecuteTime": {
     "end_time": "2022-01-16T08:37:23.810670Z",
     "start_time": "2022-01-16T08:37:23.796333Z"
    },
    "id": "Qx60EwGTxOIY"
   },
   "outputs": [],
   "source": [
    "county_pop_gain_sample['gain'] = 'true'"
   ]
  },
  {
   "cell_type": "code",
   "execution_count": 40,
   "metadata": {
    "ExecuteTime": {
     "end_time": "2022-01-16T08:37:23.841060Z",
     "start_time": "2022-01-16T08:37:23.811635Z"
    },
    "colab": {
     "base_uri": "https://localhost:8080/",
     "height": 206
    },
    "id": "TF_AjwiXyE5K",
    "outputId": "71672c74-429c-4a10-f2e5-12f086cf0ac0"
   },
   "outputs": [
    {
     "data": {
      "text/html": [
       "<div>\n",
       "<style scoped>\n",
       "    .dataframe tbody tr th:only-of-type {\n",
       "        vertical-align: middle;\n",
       "    }\n",
       "\n",
       "    .dataframe tbody tr th {\n",
       "        vertical-align: top;\n",
       "    }\n",
       "\n",
       "    .dataframe thead th {\n",
       "        text-align: right;\n",
       "    }\n",
       "</style>\n",
       "<table border=\"1\" class=\"dataframe\">\n",
       "  <thead>\n",
       "    <tr style=\"text-align: right;\">\n",
       "      <th></th>\n",
       "      <th>name</th>\n",
       "      <th>state</th>\n",
       "      <th>pop2000</th>\n",
       "      <th>pop2010</th>\n",
       "      <th>pop2017</th>\n",
       "      <th>pop_change</th>\n",
       "      <th>poverty</th>\n",
       "      <th>homeownership</th>\n",
       "      <th>multi_unit</th>\n",
       "      <th>unemployment_rate</th>\n",
       "      <th>metro</th>\n",
       "      <th>median_edu</th>\n",
       "      <th>per_capita_income</th>\n",
       "      <th>median_hh_income</th>\n",
       "      <th>smoking_ban</th>\n",
       "      <th>gain</th>\n",
       "    </tr>\n",
       "  </thead>\n",
       "  <tbody>\n",
       "    <tr>\n",
       "      <th>2880</th>\n",
       "      <td>Nelson County</td>\n",
       "      <td>Virginia</td>\n",
       "      <td>14445.0</td>\n",
       "      <td>15020</td>\n",
       "      <td>14943.0</td>\n",
       "      <td>0.95</td>\n",
       "      <td>14.9</td>\n",
       "      <td>77.8</td>\n",
       "      <td>11.8</td>\n",
       "      <td>3.49</td>\n",
       "      <td>yes</td>\n",
       "      <td>some_college</td>\n",
       "      <td>32600.44</td>\n",
       "      <td>53834.0</td>\n",
       "      <td>none</td>\n",
       "      <td>true</td>\n",
       "    </tr>\n",
       "    <tr>\n",
       "      <th>745</th>\n",
       "      <td>Marion County</td>\n",
       "      <td>Indiana</td>\n",
       "      <td>860454.0</td>\n",
       "      <td>903393</td>\n",
       "      <td>950082.0</td>\n",
       "      <td>2.19</td>\n",
       "      <td>19.8</td>\n",
       "      <td>58.8</td>\n",
       "      <td>31.4</td>\n",
       "      <td>3.59</td>\n",
       "      <td>yes</td>\n",
       "      <td>some_college</td>\n",
       "      <td>25460.56</td>\n",
       "      <td>44869.0</td>\n",
       "      <td>none</td>\n",
       "      <td>true</td>\n",
       "    </tr>\n",
       "    <tr>\n",
       "      <th>1716</th>\n",
       "      <td>Nance County</td>\n",
       "      <td>Nebraska</td>\n",
       "      <td>4038.0</td>\n",
       "      <td>3735</td>\n",
       "      <td>3607.0</td>\n",
       "      <td>1.35</td>\n",
       "      <td>11.7</td>\n",
       "      <td>76.0</td>\n",
       "      <td>8.0</td>\n",
       "      <td>2.49</td>\n",
       "      <td>no</td>\n",
       "      <td>some_college</td>\n",
       "      <td>27369.55</td>\n",
       "      <td>45428.0</td>\n",
       "      <td>none</td>\n",
       "      <td>true</td>\n",
       "    </tr>\n",
       "    <tr>\n",
       "      <th>2074</th>\n",
       "      <td>Hancock County</td>\n",
       "      <td>Ohio</td>\n",
       "      <td>71295.0</td>\n",
       "      <td>74782</td>\n",
       "      <td>75754.0</td>\n",
       "      <td>0.32</td>\n",
       "      <td>12.1</td>\n",
       "      <td>71.1</td>\n",
       "      <td>21.4</td>\n",
       "      <td>3.62</td>\n",
       "      <td>no</td>\n",
       "      <td>some_college</td>\n",
       "      <td>30328.26</td>\n",
       "      <td>52831.0</td>\n",
       "      <td>none</td>\n",
       "      <td>true</td>\n",
       "    </tr>\n",
       "    <tr>\n",
       "      <th>2192</th>\n",
       "      <td>Pontotoc County</td>\n",
       "      <td>Oklahoma</td>\n",
       "      <td>35143.0</td>\n",
       "      <td>37492</td>\n",
       "      <td>38224.0</td>\n",
       "      <td>0.17</td>\n",
       "      <td>17.3</td>\n",
       "      <td>65.3</td>\n",
       "      <td>12.1</td>\n",
       "      <td>3.80</td>\n",
       "      <td>no</td>\n",
       "      <td>some_college</td>\n",
       "      <td>23890.16</td>\n",
       "      <td>46689.0</td>\n",
       "      <td>none</td>\n",
       "      <td>true</td>\n",
       "    </tr>\n",
       "  </tbody>\n",
       "</table>\n",
       "</div>"
      ],
      "text/plain": [
       "                 name     state   pop2000  pop2010   pop2017  pop_change  \\\n",
       "2880    Nelson County  Virginia   14445.0    15020   14943.0        0.95   \n",
       "745     Marion County   Indiana  860454.0   903393  950082.0        2.19   \n",
       "1716     Nance County  Nebraska    4038.0     3735    3607.0        1.35   \n",
       "2074   Hancock County      Ohio   71295.0    74782   75754.0        0.32   \n",
       "2192  Pontotoc County  Oklahoma   35143.0    37492   38224.0        0.17   \n",
       "\n",
       "      poverty  homeownership  multi_unit  unemployment_rate metro  \\\n",
       "2880     14.9           77.8        11.8               3.49   yes   \n",
       "745      19.8           58.8        31.4               3.59   yes   \n",
       "1716     11.7           76.0         8.0               2.49    no   \n",
       "2074     12.1           71.1        21.4               3.62    no   \n",
       "2192     17.3           65.3        12.1               3.80    no   \n",
       "\n",
       "        median_edu  per_capita_income  median_hh_income smoking_ban  gain  \n",
       "2880  some_college           32600.44           53834.0        none  true  \n",
       "745   some_college           25460.56           44869.0        none  true  \n",
       "1716  some_college           27369.55           45428.0        none  true  \n",
       "2074  some_college           30328.26           52831.0        none  true  \n",
       "2192  some_college           23890.16           46689.0        none  true  "
      ]
     },
     "execution_count": 40,
     "metadata": {},
     "output_type": "execute_result"
    }
   ],
   "source": [
    "county_pop_gain_sample.head()"
   ]
  },
  {
   "cell_type": "code",
   "execution_count": 41,
   "metadata": {
    "ExecuteTime": {
     "end_time": "2022-01-16T08:37:23.856389Z",
     "start_time": "2022-01-16T08:37:23.842024Z"
    },
    "id": "71OhJGEAyGdY"
   },
   "outputs": [],
   "source": [
    "county_pop_no_gain_sample['gain'] = 'false'"
   ]
  },
  {
   "cell_type": "code",
   "execution_count": 42,
   "metadata": {
    "ExecuteTime": {
     "end_time": "2022-01-16T08:37:23.886369Z",
     "start_time": "2022-01-16T08:37:23.857314Z"
    },
    "colab": {
     "base_uri": "https://localhost:8080/",
     "height": 206
    },
    "id": "IkRsEuiNyL9A",
    "outputId": "fee6b158-eff1-41ac-9d2f-d72d955ec088"
   },
   "outputs": [
    {
     "data": {
      "text/html": [
       "<div>\n",
       "<style scoped>\n",
       "    .dataframe tbody tr th:only-of-type {\n",
       "        vertical-align: middle;\n",
       "    }\n",
       "\n",
       "    .dataframe tbody tr th {\n",
       "        vertical-align: top;\n",
       "    }\n",
       "\n",
       "    .dataframe thead th {\n",
       "        text-align: right;\n",
       "    }\n",
       "</style>\n",
       "<table border=\"1\" class=\"dataframe\">\n",
       "  <thead>\n",
       "    <tr style=\"text-align: right;\">\n",
       "      <th></th>\n",
       "      <th>name</th>\n",
       "      <th>state</th>\n",
       "      <th>pop2000</th>\n",
       "      <th>pop2010</th>\n",
       "      <th>pop2017</th>\n",
       "      <th>pop_change</th>\n",
       "      <th>poverty</th>\n",
       "      <th>homeownership</th>\n",
       "      <th>multi_unit</th>\n",
       "      <th>unemployment_rate</th>\n",
       "      <th>metro</th>\n",
       "      <th>median_edu</th>\n",
       "      <th>per_capita_income</th>\n",
       "      <th>median_hh_income</th>\n",
       "      <th>smoking_ban</th>\n",
       "      <th>gain</th>\n",
       "    </tr>\n",
       "  </thead>\n",
       "  <tbody>\n",
       "    <tr>\n",
       "      <th>3052</th>\n",
       "      <td>Buffalo County</td>\n",
       "      <td>Wisconsin</td>\n",
       "      <td>13804.0</td>\n",
       "      <td>13587</td>\n",
       "      <td>13167.0</td>\n",
       "      <td>-1.55</td>\n",
       "      <td>10.7</td>\n",
       "      <td>77.9</td>\n",
       "      <td>11.4</td>\n",
       "      <td>3.74</td>\n",
       "      <td>no</td>\n",
       "      <td>some_college</td>\n",
       "      <td>28784.72</td>\n",
       "      <td>54753.0</td>\n",
       "      <td>none</td>\n",
       "      <td>false</td>\n",
       "    </tr>\n",
       "    <tr>\n",
       "      <th>1710</th>\n",
       "      <td>Logan County</td>\n",
       "      <td>Nebraska</td>\n",
       "      <td>774.0</td>\n",
       "      <td>763</td>\n",
       "      <td>768.0</td>\n",
       "      <td>-1.16</td>\n",
       "      <td>9.7</td>\n",
       "      <td>68.1</td>\n",
       "      <td>0.0</td>\n",
       "      <td>2.77</td>\n",
       "      <td>no</td>\n",
       "      <td>some_college</td>\n",
       "      <td>24356.18</td>\n",
       "      <td>50278.0</td>\n",
       "      <td>none</td>\n",
       "      <td>false</td>\n",
       "    </tr>\n",
       "    <tr>\n",
       "      <th>1515</th>\n",
       "      <td>Dent County</td>\n",
       "      <td>Missouri</td>\n",
       "      <td>14927.0</td>\n",
       "      <td>15657</td>\n",
       "      <td>15480.0</td>\n",
       "      <td>-1.43</td>\n",
       "      <td>20.8</td>\n",
       "      <td>77.9</td>\n",
       "      <td>7.3</td>\n",
       "      <td>4.27</td>\n",
       "      <td>no</td>\n",
       "      <td>hs_diploma</td>\n",
       "      <td>20721.83</td>\n",
       "      <td>38829.0</td>\n",
       "      <td>none</td>\n",
       "      <td>false</td>\n",
       "    </tr>\n",
       "    <tr>\n",
       "      <th>2143</th>\n",
       "      <td>Cimarron County</td>\n",
       "      <td>Oklahoma</td>\n",
       "      <td>3148.0</td>\n",
       "      <td>2475</td>\n",
       "      <td>2154.0</td>\n",
       "      <td>-6.63</td>\n",
       "      <td>15.9</td>\n",
       "      <td>76.7</td>\n",
       "      <td>4.8</td>\n",
       "      <td>2.40</td>\n",
       "      <td>no</td>\n",
       "      <td>hs_diploma</td>\n",
       "      <td>28570.27</td>\n",
       "      <td>44667.0</td>\n",
       "      <td>none</td>\n",
       "      <td>false</td>\n",
       "    </tr>\n",
       "    <tr>\n",
       "      <th>2938</th>\n",
       "      <td>Norfolk city</td>\n",
       "      <td>Virginia</td>\n",
       "      <td>234403.0</td>\n",
       "      <td>242803</td>\n",
       "      <td>244703.0</td>\n",
       "      <td>-0.37</td>\n",
       "      <td>21.0</td>\n",
       "      <td>46.6</td>\n",
       "      <td>42.9</td>\n",
       "      <td>4.65</td>\n",
       "      <td>yes</td>\n",
       "      <td>some_college</td>\n",
       "      <td>25911.51</td>\n",
       "      <td>47137.0</td>\n",
       "      <td>none</td>\n",
       "      <td>false</td>\n",
       "    </tr>\n",
       "  </tbody>\n",
       "</table>\n",
       "</div>"
      ],
      "text/plain": [
       "                 name      state   pop2000  pop2010   pop2017  pop_change  \\\n",
       "3052   Buffalo County  Wisconsin   13804.0    13587   13167.0       -1.55   \n",
       "1710     Logan County   Nebraska     774.0      763     768.0       -1.16   \n",
       "1515      Dent County   Missouri   14927.0    15657   15480.0       -1.43   \n",
       "2143  Cimarron County   Oklahoma    3148.0     2475    2154.0       -6.63   \n",
       "2938     Norfolk city   Virginia  234403.0   242803  244703.0       -0.37   \n",
       "\n",
       "      poverty  homeownership  multi_unit  unemployment_rate metro  \\\n",
       "3052     10.7           77.9        11.4               3.74    no   \n",
       "1710      9.7           68.1         0.0               2.77    no   \n",
       "1515     20.8           77.9         7.3               4.27    no   \n",
       "2143     15.9           76.7         4.8               2.40    no   \n",
       "2938     21.0           46.6        42.9               4.65   yes   \n",
       "\n",
       "        median_edu  per_capita_income  median_hh_income smoking_ban   gain  \n",
       "3052  some_college           28784.72           54753.0        none  false  \n",
       "1710  some_college           24356.18           50278.0        none  false  \n",
       "1515    hs_diploma           20721.83           38829.0        none  false  \n",
       "2143    hs_diploma           28570.27           44667.0        none  false  \n",
       "2938  some_college           25911.51           47137.0        none  false  "
      ]
     },
     "execution_count": 42,
     "metadata": {},
     "output_type": "execute_result"
    }
   ],
   "source": [
    "county_pop_no_gain_sample.head()"
   ]
  },
  {
   "cell_type": "code",
   "execution_count": 43,
   "metadata": {
    "ExecuteTime": {
     "end_time": "2022-01-16T08:37:23.902070Z",
     "start_time": "2022-01-16T08:37:23.887996Z"
    },
    "id": "Px9JWv2GyNxe"
   },
   "outputs": [],
   "source": [
    "county_pop_change = pd.concat([county_pop_gain_sample, county_pop_no_gain_sample])"
   ]
  },
  {
   "cell_type": "code",
   "execution_count": 44,
   "metadata": {
    "ExecuteTime": {
     "end_time": "2022-01-16T08:37:24.007805Z",
     "start_time": "2022-01-16T08:37:23.903041Z"
    },
    "colab": {
     "base_uri": "https://localhost:8080/",
     "height": 517
    },
    "id": "S_KPq8Ejyd8H",
    "outputId": "766c0355-accb-4d97-e5ba-857b44eb73d9"
   },
   "outputs": [
    {
     "data": {
      "text/plain": [
       "<Axes: xlabel='gain', ylabel='median_hh_income'>"
      ]
     },
     "execution_count": 44,
     "metadata": {},
     "output_type": "execute_result"
    },
    {
     "data": {
      "image/png": "[encoded data removed]",
      "text/plain": [
       "<Figure size 1200x800 with 1 Axes>"
      ]
     },
     "metadata": {},
     "output_type": "display_data"
    }
   ],
   "source": [
    "sns.boxplot(x='gain', y='median_hh_income', data=county_pop_change)"
   ]
  },
  {
   "cell_type": "code",
   "execution_count": 45,
   "metadata": {
    "ExecuteTime": {
     "end_time": "2022-01-16T08:37:24.174942Z",
     "start_time": "2022-01-16T08:37:24.009246Z"
    },
    "colab": {
     "base_uri": "https://localhost:8080/",
     "height": 516
    },
    "id": "nIKtc_5dynMX",
    "outputId": "519d11bc-b180-4cc0-8101-3c71f1405ce7"
   },
   "outputs": [
    {
     "data": {
      "text/plain": [
       "Text(0.5, 1.0, 'Median Household Income')"
      ]
     },
     "execution_count": 45,
     "metadata": {},
     "output_type": "execute_result"
    },
    {
     "data": {
      "image/png": "[encoded data removed]",
      "text/plain": [
       "<Figure size 1200x800 with 1 Axes>"
      ]
     },
     "metadata": {},
     "output_type": "display_data"
    }
   ],
   "source": [
    "n_bins=30\n",
    "x = county_pop_gain_sample['median_hh_income']\n",
    "colors = ['Gain',]\n",
    "plt.hist(x, n_bins, histtype='step', stacked=True, fill=False, label=colors, color = \"red\")\n",
    "plt.legend(loc=\"upper right\")\n",
    "plt.title('Median Household Income')\n",
    "n_bins=30\n",
    "y = county_pop_no_gain_sample['median_hh_income']\n",
    "colors = ['No Gain',]\n",
    "plt.hist(y, n_bins, histtype='step', stacked=True, fill=False, label=colors, linestyle='dashed', color = \"green\")\n",
    "plt.legend(loc=\"upper right\")\n",
    "plt.title('Median Household Income')"
   ]
  },
  {
   "cell_type": "code",
   "execution_count": 46,
   "metadata": {
    "ExecuteTime": {
     "end_time": "2022-01-16T08:37:24.190062Z",
     "start_time": "2022-01-16T08:37:24.176851Z"
    },
    "colab": {
     "base_uri": "https://localhost:8080/"
    },
    "id": "iHw-eHvkz-MH",
    "outputId": "be90a96d-d624-4f24-b1fb-00c848443a16"
   },
   "outputs": [
    {
     "data": {
      "text/plain": [
       "array([[ 0.51883508,  0.7035691 ,  2.01880887],\n",
       "       [ 1.47904682,  2.74353434, -0.00701864],\n",
       "       [-0.4291703 , -0.74042331,  2.15512593],\n",
       "       [-0.71397664, -0.59228651,  1.50174737],\n",
       "       [ 0.32913103, -0.83784109, -0.27478157],\n",
       "       [-0.26528965, -0.38644113, -2.19501963],\n",
       "       [ 0.14294247, -0.94414318, -0.42588931],\n",
       "       [-1.34728451, -1.30278214,  0.77215717],\n",
       "       [ 1.89518189, -0.5539477 ,  0.37132786],\n",
       "       [-1.10776104,  1.821108  , -0.86075841]])"
      ]
     },
     "execution_count": 46,
     "metadata": {},
     "output_type": "execute_result"
    }
   ],
   "source": [
    "np.random.randn(10, 3)"
   ]
  },
  {
   "cell_type": "code",
   "execution_count": null,
   "metadata": {
    "id": "SHjuqbhS0OvN"
   },
   "outputs": [],
   "source": []
  }
 ],
 "metadata": {
  "colab": {
   "collapsed_sections": [],
   "name": "2.2 Considering categorical data notebook",
   "provenance": []
  },
  "kernelspec": {
   "display_name": "Python 3 (ipykernel)",
   "language": "python",
   "name": "python3"
  },
  "language_info": {
   "codemirror_mode": {
    "name": "ipython",
    "version": 3
   },
   "file_extension": ".py",
   "mimetype": "text/x-python",
   "name": "python",
   "nbconvert_exporter": "python",
   "pygments_lexer": "ipython3",
   "version": "3.11.4"
  }
 },
 "nbformat": 4,
 "nbformat_minor": 4
}
