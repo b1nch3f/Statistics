{
 "cells": [
  {
   "cell_type": "code",
   "execution_count": 1,
   "id": "3012f222",
   "metadata": {
    "ExecuteTime": {
     "end_time": "2022-01-18T17:04:41.083307Z",
     "start_time": "2022-01-18T17:04:41.077314Z"
    }
   },
   "outputs": [],
   "source": [
    "import numpy as np\n",
    "import pandas as pd\n",
    "import matplotlib.pyplot as plt\n",
    "import seaborn as sns"
   ]
  },
  {
   "cell_type": "markdown",
   "id": "182e0e30",
   "metadata": {},
   "source": [
    "### Residuals"
   ]
  },
  {
   "cell_type": "markdown",
   "id": "3ed5f444",
   "metadata": {},
   "source": [
    "$e_i = y_i - \\hat y_i$"
   ]
  },
  {
   "cell_type": "markdown",
   "id": "2f4ddb3b",
   "metadata": {},
   "source": [
    "#### The least squares line"
   ]
  },
  {
   "cell_type": "markdown",
   "id": "774853c3",
   "metadata": {},
   "source": [
    "$|e_1| + |e_2| +...+ |e_n|$"
   ]
  },
  {
   "cell_type": "markdown",
   "id": "4a07ae43",
   "metadata": {},
   "source": [
    "$e_1^2 + e_2^2 +...+ e_n^2$"
   ]
  },
  {
   "cell_type": "markdown",
   "id": "692ccd44",
   "metadata": {},
   "source": [
    "### Conditions for the least squares line\n",
    "\n",
    "- Linearity\n",
    "- Nearly normal residuals\n",
    "- Constant variability\n",
    "- Independent observations"
   ]
  },
  {
   "cell_type": "code",
   "execution_count": 2,
   "id": "39c3fc12",
   "metadata": {
    "ExecuteTime": {
     "end_time": "2022-01-18T17:04:41.098281Z",
     "start_time": "2022-01-18T17:04:41.086286Z"
    }
   },
   "outputs": [],
   "source": [
    "df = pd.read_csv('../data/loan50.csv')"
   ]
  },
  {
   "cell_type": "code",
   "execution_count": 3,
   "id": "0cf9bb6e",
   "metadata": {
    "ExecuteTime": {
     "end_time": "2022-01-18T17:04:41.113316Z",
     "start_time": "2022-01-18T17:04:41.100282Z"
    }
   },
   "outputs": [
    {
     "data": {
      "text/html": [
       "<div>\n",
       "<style scoped>\n",
       "    .dataframe tbody tr th:only-of-type {\n",
       "        vertical-align: middle;\n",
       "    }\n",
       "\n",
       "    .dataframe tbody tr th {\n",
       "        vertical-align: top;\n",
       "    }\n",
       "\n",
       "    .dataframe thead th {\n",
       "        text-align: right;\n",
       "    }\n",
       "</style>\n",
       "<table border=\"1\" class=\"dataframe\">\n",
       "  <thead>\n",
       "    <tr style=\"text-align: right;\">\n",
       "      <th></th>\n",
       "      <th>state</th>\n",
       "      <th>emp_length</th>\n",
       "      <th>term</th>\n",
       "      <th>homeownership</th>\n",
       "      <th>annual_income</th>\n",
       "      <th>verified_income</th>\n",
       "      <th>debt_to_income</th>\n",
       "      <th>total_credit_limit</th>\n",
       "      <th>total_credit_utilized</th>\n",
       "      <th>num_cc_carrying_balance</th>\n",
       "      <th>loan_purpose</th>\n",
       "      <th>loan_amount</th>\n",
       "      <th>grade</th>\n",
       "      <th>interest_rate</th>\n",
       "      <th>public_record_bankrupt</th>\n",
       "      <th>loan_status</th>\n",
       "      <th>has_second_income</th>\n",
       "      <th>total_income</th>\n",
       "    </tr>\n",
       "  </thead>\n",
       "  <tbody>\n",
       "    <tr>\n",
       "      <th>0</th>\n",
       "      <td>NJ</td>\n",
       "      <td>3.0</td>\n",
       "      <td>60</td>\n",
       "      <td>rent</td>\n",
       "      <td>59000</td>\n",
       "      <td>Not Verified</td>\n",
       "      <td>0.557525</td>\n",
       "      <td>95131</td>\n",
       "      <td>32894</td>\n",
       "      <td>8</td>\n",
       "      <td>debt_consolidation</td>\n",
       "      <td>22000</td>\n",
       "      <td>B</td>\n",
       "      <td>10.90</td>\n",
       "      <td>0</td>\n",
       "      <td>Current</td>\n",
       "      <td>False</td>\n",
       "      <td>59000</td>\n",
       "    </tr>\n",
       "    <tr>\n",
       "      <th>1</th>\n",
       "      <td>CA</td>\n",
       "      <td>10.0</td>\n",
       "      <td>36</td>\n",
       "      <td>rent</td>\n",
       "      <td>60000</td>\n",
       "      <td>Not Verified</td>\n",
       "      <td>1.305683</td>\n",
       "      <td>51929</td>\n",
       "      <td>78341</td>\n",
       "      <td>2</td>\n",
       "      <td>credit_card</td>\n",
       "      <td>6000</td>\n",
       "      <td>B</td>\n",
       "      <td>9.92</td>\n",
       "      <td>1</td>\n",
       "      <td>Current</td>\n",
       "      <td>False</td>\n",
       "      <td>60000</td>\n",
       "    </tr>\n",
       "    <tr>\n",
       "      <th>2</th>\n",
       "      <td>SC</td>\n",
       "      <td>NaN</td>\n",
       "      <td>36</td>\n",
       "      <td>mortgage</td>\n",
       "      <td>75000</td>\n",
       "      <td>Verified</td>\n",
       "      <td>1.056280</td>\n",
       "      <td>301373</td>\n",
       "      <td>79221</td>\n",
       "      <td>14</td>\n",
       "      <td>debt_consolidation</td>\n",
       "      <td>25000</td>\n",
       "      <td>E</td>\n",
       "      <td>26.30</td>\n",
       "      <td>0</td>\n",
       "      <td>Current</td>\n",
       "      <td>False</td>\n",
       "      <td>75000</td>\n",
       "    </tr>\n",
       "    <tr>\n",
       "      <th>3</th>\n",
       "      <td>CA</td>\n",
       "      <td>0.0</td>\n",
       "      <td>36</td>\n",
       "      <td>rent</td>\n",
       "      <td>75000</td>\n",
       "      <td>Not Verified</td>\n",
       "      <td>0.574347</td>\n",
       "      <td>59890</td>\n",
       "      <td>43076</td>\n",
       "      <td>10</td>\n",
       "      <td>credit_card</td>\n",
       "      <td>6000</td>\n",
       "      <td>B</td>\n",
       "      <td>9.92</td>\n",
       "      <td>0</td>\n",
       "      <td>Current</td>\n",
       "      <td>False</td>\n",
       "      <td>75000</td>\n",
       "    </tr>\n",
       "    <tr>\n",
       "      <th>4</th>\n",
       "      <td>OH</td>\n",
       "      <td>4.0</td>\n",
       "      <td>60</td>\n",
       "      <td>mortgage</td>\n",
       "      <td>254000</td>\n",
       "      <td>Not Verified</td>\n",
       "      <td>0.238150</td>\n",
       "      <td>422619</td>\n",
       "      <td>60490</td>\n",
       "      <td>2</td>\n",
       "      <td>home_improvement</td>\n",
       "      <td>25000</td>\n",
       "      <td>B</td>\n",
       "      <td>9.43</td>\n",
       "      <td>0</td>\n",
       "      <td>Current</td>\n",
       "      <td>False</td>\n",
       "      <td>254000</td>\n",
       "    </tr>\n",
       "  </tbody>\n",
       "</table>\n",
       "</div>"
      ],
      "text/plain": [
       "  state  emp_length  term homeownership  annual_income verified_income  \\\n",
       "0    NJ         3.0    60          rent          59000    Not Verified   \n",
       "1    CA        10.0    36          rent          60000    Not Verified   \n",
       "2    SC         NaN    36      mortgage          75000        Verified   \n",
       "3    CA         0.0    36          rent          75000    Not Verified   \n",
       "4    OH         4.0    60      mortgage         254000    Not Verified   \n",
       "\n",
       "   debt_to_income  total_credit_limit  total_credit_utilized  \\\n",
       "0        0.557525               95131                  32894   \n",
       "1        1.305683               51929                  78341   \n",
       "2        1.056280              301373                  79221   \n",
       "3        0.574347               59890                  43076   \n",
       "4        0.238150              422619                  60490   \n",
       "\n",
       "   num_cc_carrying_balance        loan_purpose  loan_amount grade  \\\n",
       "0                        8  debt_consolidation        22000     B   \n",
       "1                        2         credit_card         6000     B   \n",
       "2                       14  debt_consolidation        25000     E   \n",
       "3                       10         credit_card         6000     B   \n",
       "4                        2    home_improvement        25000     B   \n",
       "\n",
       "   interest_rate  public_record_bankrupt loan_status  has_second_income  \\\n",
       "0          10.90                       0     Current              False   \n",
       "1           9.92                       1     Current              False   \n",
       "2          26.30                       0     Current              False   \n",
       "3           9.92                       0     Current              False   \n",
       "4           9.43                       0     Current              False   \n",
       "\n",
       "   total_income  \n",
       "0         59000  \n",
       "1         60000  \n",
       "2         75000  \n",
       "3         75000  \n",
       "4        254000  "
      ]
     },
     "execution_count": 3,
     "metadata": {},
     "output_type": "execute_result"
    }
   ],
   "source": [
    "df.head()"
   ]
  },
  {
   "cell_type": "code",
   "execution_count": 4,
   "id": "47ff56ff",
   "metadata": {
    "ExecuteTime": {
     "end_time": "2022-01-18T17:04:41.248316Z",
     "start_time": "2022-01-18T17:04:41.115285Z"
    }
   },
   "outputs": [
    {
     "data": {
      "text/plain": [
       "<Axes: xlabel='total_income', ylabel='loan_amount'>"
      ]
     },
     "execution_count": 4,
     "metadata": {},
     "output_type": "execute_result"
    },
    {
     "data": {
      "image/png": "[encoded data removed]",
      "text/plain": [
       "<Figure size 1200x800 with 1 Axes>"
      ]
     },
     "metadata": {},
     "output_type": "display_data"
    }
   ],
   "source": [
    "plt.figure(figsize = (12,8))\n",
    "sns.scatterplot(data=df, x=\"total_income\", y=\"loan_amount\")"
   ]
  },
  {
   "cell_type": "code",
   "execution_count": 5,
   "id": "614a8132",
   "metadata": {
    "ExecuteTime": {
     "end_time": "2022-01-18T17:04:41.263286Z",
     "start_time": "2022-01-18T17:04:41.249282Z"
    }
   },
   "outputs": [
    {
     "data": {
      "text/html": [
       "<div>\n",
       "<style scoped>\n",
       "    .dataframe tbody tr th:only-of-type {\n",
       "        vertical-align: middle;\n",
       "    }\n",
       "\n",
       "    .dataframe tbody tr th {\n",
       "        vertical-align: top;\n",
       "    }\n",
       "\n",
       "    .dataframe thead th {\n",
       "        text-align: right;\n",
       "    }\n",
       "</style>\n",
       "<table border=\"1\" class=\"dataframe\">\n",
       "  <thead>\n",
       "    <tr style=\"text-align: right;\">\n",
       "      <th></th>\n",
       "      <th>total_income</th>\n",
       "      <th>loan_amount</th>\n",
       "    </tr>\n",
       "  </thead>\n",
       "  <tbody>\n",
       "    <tr>\n",
       "      <th>count</th>\n",
       "      <td>50.000000</td>\n",
       "      <td>50.000000</td>\n",
       "    </tr>\n",
       "    <tr>\n",
       "      <th>mean</th>\n",
       "      <td>105220.560000</td>\n",
       "      <td>17083.000000</td>\n",
       "    </tr>\n",
       "    <tr>\n",
       "      <th>std</th>\n",
       "      <td>68141.967716</td>\n",
       "      <td>10455.456343</td>\n",
       "    </tr>\n",
       "    <tr>\n",
       "      <th>min</th>\n",
       "      <td>28800.000000</td>\n",
       "      <td>3000.000000</td>\n",
       "    </tr>\n",
       "    <tr>\n",
       "      <th>25%</th>\n",
       "      <td>60000.000000</td>\n",
       "      <td>7125.000000</td>\n",
       "    </tr>\n",
       "    <tr>\n",
       "      <th>50%</th>\n",
       "      <td>78750.000000</td>\n",
       "      <td>15500.000000</td>\n",
       "    </tr>\n",
       "    <tr>\n",
       "      <th>75%</th>\n",
       "      <td>119000.000000</td>\n",
       "      <td>24000.000000</td>\n",
       "    </tr>\n",
       "    <tr>\n",
       "      <th>max</th>\n",
       "      <td>325000.000000</td>\n",
       "      <td>40000.000000</td>\n",
       "    </tr>\n",
       "  </tbody>\n",
       "</table>\n",
       "</div>"
      ],
      "text/plain": [
       "        total_income   loan_amount\n",
       "count      50.000000     50.000000\n",
       "mean   105220.560000  17083.000000\n",
       "std     68141.967716  10455.456343\n",
       "min     28800.000000   3000.000000\n",
       "25%     60000.000000   7125.000000\n",
       "50%     78750.000000  15500.000000\n",
       "75%    119000.000000  24000.000000\n",
       "max    325000.000000  40000.000000"
      ]
     },
     "execution_count": 5,
     "metadata": {},
     "output_type": "execute_result"
    }
   ],
   "source": [
    "df[['total_income', 'loan_amount']].describe()"
   ]
  },
  {
   "cell_type": "markdown",
   "id": "ddc8abbc",
   "metadata": {},
   "source": [
    "### Given x can we predict y"
   ]
  },
  {
   "cell_type": "markdown",
   "id": "6c23beb8",
   "metadata": {},
   "source": [
    "#### Fitting a line to data"
   ]
  },
  {
   "cell_type": "markdown",
   "id": "8e3d9b31",
   "metadata": {},
   "source": [
    "$y = \\beta_0 + \\beta_1x + \\epsilon$"
   ]
  },
  {
   "cell_type": "markdown",
   "id": "b5c446f6",
   "metadata": {},
   "source": [
    "#### Estimates\n",
    "\n",
    "$\\large \\beta_1 = \\frac{s_y}{s_x}R$\n",
    "\n",
    "#### Correlation\n",
    "\n",
    "$R = \\frac{1}{n-1} \\sum_{i=1}^n \\frac{x_i - \\bar x}{s_x} \\frac{y_i - \\bar y}{s_y}$"
   ]
  },
  {
   "cell_type": "code",
   "execution_count": 6,
   "id": "7b5e293b",
   "metadata": {
    "ExecuteTime": {
     "end_time": "2022-01-18T17:04:41.293284Z",
     "start_time": "2022-01-18T17:04:41.265300Z"
    }
   },
   "outputs": [
    {
     "name": "stdout",
     "output_type": "stream",
     "text": [
      "R: {0.524431410000258}\n",
      "b1_val: {0.08046685319020022}\n"
     ]
    }
   ],
   "source": [
    "# calculating R\n",
    "x_bar = df['total_income'].describe().loc['mean']\n",
    "y_bar = df['loan_amount'].describe().loc['mean']\n",
    "\n",
    "x_std = df['total_income'].describe().loc['std']\n",
    "y_std = df['loan_amount'].describe().loc['std']\n",
    "\n",
    "\n",
    "# print((np.array(df['total_income']) - x_bar)/x_std)\n",
    "\n",
    "# print((np.array(df['loan_amount']) - y_bar)/y_std)\n",
    "\n",
    "summation = np.dot((np.array(df['total_income']) - x_bar)/x_std, (np.array(df['loan_amount']) - y_bar)/y_std)\n",
    "\n",
    "r_val = summation / df.shape[0]\n",
    "\n",
    "print(f'R:', {r_val})\n",
    "\n",
    "# calculating b1\n",
    "b1_val = (y_std/x_std) * r_val\n",
    "\n",
    "print(f'b1_val:', {b1_val})"
   ]
  },
  {
   "cell_type": "markdown",
   "id": "1f26c315",
   "metadata": {},
   "source": [
    "### Slope Formula"
   ]
  },
  {
   "cell_type": "markdown",
   "id": "b93c10e3",
   "metadata": {},
   "source": [
    "$y - y_0 = slope \\times (x - x_0)$\n",
    "\n",
    "#### x_bar and y_bar are on the line\n",
    "\n",
    "$y - \\bar y = slope \\times (x - \\bar x)$"
   ]
  },
  {
   "cell_type": "markdown",
   "id": "54651e62",
   "metadata": {},
   "source": [
    "$y - \\bar y = \\beta_1 \\times (x - \\bar x)$"
   ]
  },
  {
   "cell_type": "markdown",
   "id": "8eb7374c",
   "metadata": {},
   "source": [
    "$y = \\bar y + \\beta_1 \\times (x - \\bar x)$"
   ]
  },
  {
   "cell_type": "markdown",
   "id": "d5756a73",
   "metadata": {},
   "source": [
    "$y = \\bar y + \\beta_1 x - \\beta_1 \\bar x$"
   ]
  },
  {
   "cell_type": "markdown",
   "id": "0a18d3e2",
   "metadata": {},
   "source": [
    "#### We know\n",
    "\n",
    "$y = \\beta_0 + \\beta_1x + \\epsilon$"
   ]
  },
  {
   "cell_type": "markdown",
   "id": "171f20b9",
   "metadata": {},
   "source": [
    "$\\beta_0 = \\bar y - \\beta_1 \\bar x$"
   ]
  },
  {
   "cell_type": "code",
   "execution_count": 7,
   "id": "25f620c1",
   "metadata": {
    "ExecuteTime": {
     "end_time": "2022-01-18T17:04:41.308284Z",
     "start_time": "2022-01-18T17:04:41.295281Z"
    }
   },
   "outputs": [
    {
     "name": "stdout",
     "output_type": "stream",
     "text": [
      "b0_val: {8616.232645889346}\n"
     ]
    }
   ],
   "source": [
    "# calculating b0\n",
    "b0_val = y_bar - b1_val * x_bar\n",
    "\n",
    "print(f'b0_val:', {b0_val})"
   ]
  },
  {
   "cell_type": "code",
   "execution_count": 8,
   "id": "bf17eb00",
   "metadata": {
    "ExecuteTime": {
     "end_time": "2022-01-18T17:04:41.428341Z",
     "start_time": "2022-01-18T17:04:41.309317Z"
    }
   },
   "outputs": [
    {
     "data": {
      "image/png": "[encoded data removed]",
      "text/plain": [
       "<Figure size 1200x800 with 1 Axes>"
      ]
     },
     "metadata": {},
     "output_type": "display_data"
    }
   ],
   "source": [
    "plt.figure(figsize = (12,8))\n",
    "\n",
    "x = np.array(df['total_income'])\n",
    "y = np.array(df['loan_amount'])\n",
    "             \n",
    "plt.plot(x, y, 'o')\n",
    "\n",
    "plt.plot(x, b1_val * x + b0_val)\n",
    "\n",
    "plt.xlabel(\"Total Income\")\n",
    "plt.ylabel(\"Loan Amount\")\n",
    "\n",
    "plt.show()"
   ]
  },
  {
   "cell_type": "markdown",
   "id": "5596d8f9",
   "metadata": {},
   "source": [
    "## To Extrapolation or Not?"
   ]
  },
  {
   "cell_type": "code",
   "execution_count": null,
   "id": "2498ac4e",
   "metadata": {},
   "outputs": [],
   "source": []
  },
  {
   "cell_type": "code",
   "execution_count": null,
   "id": "81568d3f",
   "metadata": {},
   "outputs": [],
   "source": []
  },
  {
   "cell_type": "code",
   "execution_count": null,
   "id": "efc2796a",
   "metadata": {},
   "outputs": [],
   "source": []
  },
  {
   "cell_type": "code",
   "execution_count": null,
   "id": "ac357cc9",
   "metadata": {},
   "outputs": [],
   "source": []
  },
  {
   "cell_type": "markdown",
   "id": "568b126d",
   "metadata": {},
   "source": [
    "### Using R2 to describe the strength of a fit or variance explained\n",
    "\n",
    "$R^2 = \\frac{s_y^2 - s_{res}^2}{s_y^2}$"
   ]
  },
  {
   "cell_type": "code",
   "execution_count": 9,
   "id": "71ae8079",
   "metadata": {
    "ExecuteTime": {
     "end_time": "2022-01-18T17:04:41.443333Z",
     "start_time": "2022-01-18T17:04:41.430285Z"
    }
   },
   "outputs": [],
   "source": [
    "def predict(x):\n",
    "    return b0_val + b1_val * x"
   ]
  },
  {
   "cell_type": "code",
   "execution_count": 10,
   "id": "31315f74",
   "metadata": {
    "ExecuteTime": {
     "end_time": "2022-01-18T17:04:41.458344Z",
     "start_time": "2022-01-18T17:04:41.445284Z"
    }
   },
   "outputs": [],
   "source": [
    "# test dataset\n",
    "x_test = np.array(df['total_income'])\n",
    "y_test = np.array(df['loan_amount'])"
   ]
  },
  {
   "cell_type": "code",
   "execution_count": 11,
   "id": "5d407d79",
   "metadata": {
    "ExecuteTime": {
     "end_time": "2022-01-18T17:04:41.473285Z",
     "start_time": "2022-01-18T17:04:41.459281Z"
    }
   },
   "outputs": [],
   "source": [
    "y_pred = np.array([predict(x) for x in x_test])"
   ]
  },
  {
   "cell_type": "code",
   "execution_count": 12,
   "id": "f5241725",
   "metadata": {
    "ExecuteTime": {
     "end_time": "2022-01-18T17:04:41.488495Z",
     "start_time": "2022-01-18T17:04:41.474284Z"
    }
   },
   "outputs": [],
   "source": [
    "residuals = y_test - y_pred"
   ]
  },
  {
   "cell_type": "code",
   "execution_count": 13,
   "id": "b1464c42",
   "metadata": {
    "ExecuteTime": {
     "end_time": "2022-01-18T17:04:41.503497Z",
     "start_time": "2022-01-18T17:04:41.489495Z"
    }
   },
   "outputs": [
    {
     "data": {
      "text/plain": [
       "array([  8636.22301589,  -7444.2438373 ,  10348.75336485,  -8651.24663515,\n",
       "        -4054.8133562 ,  -7607.51180963,  -7933.67801777,   -553.58090111,\n",
       "        -1352.10565436,  -5565.86845841,   2509.68707123,  -6272.25502871,\n",
       "         -662.91796491,   -565.25223086,  -8352.10565436,  12898.01574147,\n",
       "         -644.30546006,  -2003.45950528, -10662.91796491,   3268.28651166,\n",
       "       -17257.61733352,  17865.33601816, -10553.58090111,  -8502.60048608,\n",
       "         8004.15952012, -10342.28300724,  -3846.57810325,  -3237.24103945,\n",
       "         6669.38832251,  15934.13154159,  -4825.38761595,  14371.47979681,\n",
       "        -8158.00664135,  13095.68147552,  -8883.31013092,  -6041.90957135,\n",
       "        11153.42189675,  -4691.17194798,    232.0400673 ,  -6748.9123692 ,\n",
       "        17009.07084368,   2360.4246946 ,   9670.62077761,   8544.08483294,\n",
       "        -2816.84887344,  -7444.2438373 ,  16676.45644248,  -6814.5753054 ,\n",
       "         3095.68147552,    147.58623187])"
      ]
     },
     "execution_count": 13,
     "metadata": {},
     "output_type": "execute_result"
    }
   ],
   "source": [
    "residuals"
   ]
  },
  {
   "cell_type": "code",
   "execution_count": 14,
   "id": "15479abb",
   "metadata": {
    "ExecuteTime": {
     "end_time": "2022-01-18T17:04:41.518537Z",
     "start_time": "2022-01-18T17:04:41.505500Z"
    }
   },
   "outputs": [],
   "source": [
    "residuals_std = np.std(residuals)"
   ]
  },
  {
   "cell_type": "code",
   "execution_count": 15,
   "id": "e1b96285",
   "metadata": {
    "ExecuteTime": {
     "end_time": "2022-01-18T17:04:41.533520Z",
     "start_time": "2022-01-18T17:04:41.520496Z"
    }
   },
   "outputs": [
    {
     "name": "stdout",
     "output_type": "stream",
     "text": [
      "0.30052886987075583\n"
     ]
    }
   ],
   "source": [
    "# calculating R2\n",
    "\n",
    "r2_val = (y_std**2 - residuals_std**2) / y_std**2\n",
    "print(r2_val)"
   ]
  },
  {
   "cell_type": "code",
   "execution_count": 16,
   "id": "f45080bb",
   "metadata": {
    "ExecuteTime": {
     "end_time": "2022-01-18T17:04:41.548497Z",
     "start_time": "2022-01-18T17:04:41.534500Z"
    }
   },
   "outputs": [],
   "source": [
    "# 30% variance of data is explained by Total Income for predicting Loan Amount"
   ]
  }
 ],
 "metadata": {
  "kernelspec": {
   "display_name": "Python 3 (ipykernel)",
   "language": "python",
   "name": "python3"
  },
  "language_info": {
   "codemirror_mode": {
    "name": "ipython",
    "version": 3
   },
   "file_extension": ".py",
   "mimetype": "text/x-python",
   "name": "python",
   "nbconvert_exporter": "python",
   "pygments_lexer": "ipython3",
   "version": "3.11.4"
  }
 },
 "nbformat": 4,
 "nbformat_minor": 5
}
